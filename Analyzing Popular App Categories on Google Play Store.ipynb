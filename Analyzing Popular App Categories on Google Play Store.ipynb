{
 "cells": [
  {
   "cell_type": "markdown",
   "id": "64474b8c",
   "metadata": {},
   "source": [
    "# Analyzing Popular App Categories on Google Play Store"
   ]
  },
  {
   "cell_type": "markdown",
   "id": "9a44bb77",
   "metadata": {},
   "source": [
    "The aim of this project is to determine the types of apps that garner popularity on the Google Play Store. Working for a company that offers free apps and earns revenue through advertisements, our objective is to discern high-demand app categories. By understanding these trends, we can assist our developers in creating apps that appeal to a broader audience and generate increased revenue. Analyzing data from the Google Play Store allows us to identify patterns and user preferences, enabling us to make informed decisions about the types of apps we develop."
   ]
  },
  {
   "cell_type": "code",
   "execution_count": 1,
   "id": "57dc4086",
   "metadata": {},
   "outputs": [],
   "source": [
    "#Importing required Libraries\n",
    "import pandas as pd\n",
    "import numpy as np\n",
    "import matplotlib.pyplot as plt\n",
    "import seaborn as sns\n"
   ]
  },
  {
   "cell_type": "code",
   "execution_count": 2,
   "id": "d2ad39ce",
   "metadata": {},
   "outputs": [],
   "source": [
    "# hide all warnings runtime\n",
    "import warnings\n",
    "warnings.filterwarnings('ignore')"
   ]
  },
  {
   "cell_type": "markdown",
   "id": "3162b341",
   "metadata": {},
   "source": [
    "# Data Loading"
   ]
  },
  {
   "cell_type": "code",
   "execution_count": 3,
   "id": "d3c6ef98",
   "metadata": {},
   "outputs": [
    {
     "data": {
      "text/html": [
       "<div>\n",
       "<style scoped>\n",
       "    .dataframe tbody tr th:only-of-type {\n",
       "        vertical-align: middle;\n",
       "    }\n",
       "\n",
       "    .dataframe tbody tr th {\n",
       "        vertical-align: top;\n",
       "    }\n",
       "\n",
       "    .dataframe thead th {\n",
       "        text-align: right;\n",
       "    }\n",
       "</style>\n",
       "<table border=\"1\" class=\"dataframe\">\n",
       "  <thead>\n",
       "    <tr style=\"text-align: right;\">\n",
       "      <th></th>\n",
       "      <th>App</th>\n",
       "      <th>Category</th>\n",
       "      <th>Rating</th>\n",
       "      <th>Reviews</th>\n",
       "      <th>Size</th>\n",
       "      <th>Installs</th>\n",
       "      <th>Type</th>\n",
       "      <th>Price</th>\n",
       "      <th>Content Rating</th>\n",
       "      <th>Genres</th>\n",
       "      <th>Last Updated</th>\n",
       "      <th>Current Ver</th>\n",
       "      <th>Android Ver</th>\n",
       "    </tr>\n",
       "  </thead>\n",
       "  <tbody>\n",
       "    <tr>\n",
       "      <th>0</th>\n",
       "      <td>Photo Editor &amp; Candy Camera &amp; Grid &amp; ScrapBook</td>\n",
       "      <td>ART_AND_DESIGN</td>\n",
       "      <td>4.1</td>\n",
       "      <td>159</td>\n",
       "      <td>19M</td>\n",
       "      <td>10,000+</td>\n",
       "      <td>Free</td>\n",
       "      <td>0</td>\n",
       "      <td>Everyone</td>\n",
       "      <td>Art &amp; Design</td>\n",
       "      <td>January 7, 2018</td>\n",
       "      <td>1.0.0</td>\n",
       "      <td>4.0.3 and up</td>\n",
       "    </tr>\n",
       "    <tr>\n",
       "      <th>1</th>\n",
       "      <td>Coloring book moana</td>\n",
       "      <td>ART_AND_DESIGN</td>\n",
       "      <td>3.9</td>\n",
       "      <td>967</td>\n",
       "      <td>14M</td>\n",
       "      <td>500,000+</td>\n",
       "      <td>Free</td>\n",
       "      <td>0</td>\n",
       "      <td>Everyone</td>\n",
       "      <td>Art &amp; Design;Pretend Play</td>\n",
       "      <td>January 15, 2018</td>\n",
       "      <td>2.0.0</td>\n",
       "      <td>4.0.3 and up</td>\n",
       "    </tr>\n",
       "    <tr>\n",
       "      <th>2</th>\n",
       "      <td>U Launcher Lite – FREE Live Cool Themes, Hide ...</td>\n",
       "      <td>ART_AND_DESIGN</td>\n",
       "      <td>4.7</td>\n",
       "      <td>87510</td>\n",
       "      <td>8.7M</td>\n",
       "      <td>5,000,000+</td>\n",
       "      <td>Free</td>\n",
       "      <td>0</td>\n",
       "      <td>Everyone</td>\n",
       "      <td>Art &amp; Design</td>\n",
       "      <td>August 1, 2018</td>\n",
       "      <td>1.2.4</td>\n",
       "      <td>4.0.3 and up</td>\n",
       "    </tr>\n",
       "    <tr>\n",
       "      <th>3</th>\n",
       "      <td>Sketch - Draw &amp; Paint</td>\n",
       "      <td>ART_AND_DESIGN</td>\n",
       "      <td>4.5</td>\n",
       "      <td>215644</td>\n",
       "      <td>25M</td>\n",
       "      <td>50,000,000+</td>\n",
       "      <td>Free</td>\n",
       "      <td>0</td>\n",
       "      <td>Teen</td>\n",
       "      <td>Art &amp; Design</td>\n",
       "      <td>June 8, 2018</td>\n",
       "      <td>Varies with device</td>\n",
       "      <td>4.2 and up</td>\n",
       "    </tr>\n",
       "    <tr>\n",
       "      <th>4</th>\n",
       "      <td>Pixel Draw - Number Art Coloring Book</td>\n",
       "      <td>ART_AND_DESIGN</td>\n",
       "      <td>4.3</td>\n",
       "      <td>967</td>\n",
       "      <td>2.8M</td>\n",
       "      <td>100,000+</td>\n",
       "      <td>Free</td>\n",
       "      <td>0</td>\n",
       "      <td>Everyone</td>\n",
       "      <td>Art &amp; Design;Creativity</td>\n",
       "      <td>June 20, 2018</td>\n",
       "      <td>1.1</td>\n",
       "      <td>4.4 and up</td>\n",
       "    </tr>\n",
       "  </tbody>\n",
       "</table>\n",
       "</div>"
      ],
      "text/plain": [
       "                                                 App        Category  Rating  \\\n",
       "0     Photo Editor & Candy Camera & Grid & ScrapBook  ART_AND_DESIGN     4.1   \n",
       "1                                Coloring book moana  ART_AND_DESIGN     3.9   \n",
       "2  U Launcher Lite – FREE Live Cool Themes, Hide ...  ART_AND_DESIGN     4.7   \n",
       "3                              Sketch - Draw & Paint  ART_AND_DESIGN     4.5   \n",
       "4              Pixel Draw - Number Art Coloring Book  ART_AND_DESIGN     4.3   \n",
       "\n",
       "  Reviews  Size     Installs  Type Price Content Rating  \\\n",
       "0     159   19M      10,000+  Free     0       Everyone   \n",
       "1     967   14M     500,000+  Free     0       Everyone   \n",
       "2   87510  8.7M   5,000,000+  Free     0       Everyone   \n",
       "3  215644   25M  50,000,000+  Free     0           Teen   \n",
       "4     967  2.8M     100,000+  Free     0       Everyone   \n",
       "\n",
       "                      Genres      Last Updated         Current Ver  \\\n",
       "0               Art & Design   January 7, 2018               1.0.0   \n",
       "1  Art & Design;Pretend Play  January 15, 2018               2.0.0   \n",
       "2               Art & Design    August 1, 2018               1.2.4   \n",
       "3               Art & Design      June 8, 2018  Varies with device   \n",
       "4    Art & Design;Creativity     June 20, 2018                 1.1   \n",
       "\n",
       "    Android Ver  \n",
       "0  4.0.3 and up  \n",
       "1  4.0.3 and up  \n",
       "2  4.0.3 and up  \n",
       "3    4.2 and up  \n",
       "4    4.4 and up  "
      ]
     },
     "execution_count": 3,
     "metadata": {},
     "output_type": "execute_result"
    }
   ],
   "source": [
    "#Reading the dataset into pandas DataFrame\n",
    "df = pd.read_csv('googleplaystore.csv')\n",
    "df.head()"
   ]
  },
  {
   "cell_type": "markdown",
   "id": "5a2ccb4c",
   "metadata": {},
   "source": [
    "# Exploration and Cleaning"
   ]
  },
  {
   "cell_type": "code",
   "execution_count": 4,
   "id": "cfca0777",
   "metadata": {},
   "outputs": [
    {
     "name": "stdout",
     "output_type": "stream",
     "text": [
      "No. of Columns 13\n",
      "No. of Rows 10841\n"
     ]
    }
   ],
   "source": [
    "print(f\"No. of Columns {df.shape[1]}\")\n",
    "print(f\"No. of Rows {df.shape[0]}\")"
   ]
  },
  {
   "cell_type": "code",
   "execution_count": 5,
   "id": "4d09cd63",
   "metadata": {},
   "outputs": [
    {
     "name": "stdout",
     "output_type": "stream",
     "text": [
      "The name of the columns are as follows: Index(['App', 'Category', 'Rating', 'Reviews', 'Size', 'Installs', 'Type',\n",
      "       'Price', 'Content Rating', 'Genres', 'Last Updated', 'Current Ver',\n",
      "       'Android Ver'],\n",
      "      dtype='object')\n"
     ]
    }
   ],
   "source": [
    "print(f\"The name of the columns are as follows: \\\n",
    "{df.columns}\")"
   ]
  },
  {
   "cell_type": "code",
   "execution_count": 6,
   "id": "cbe015f6",
   "metadata": {},
   "outputs": [
    {
     "name": "stdout",
     "output_type": "stream",
     "text": [
      "<class 'pandas.core.frame.DataFrame'>\n",
      "RangeIndex: 10841 entries, 0 to 10840\n",
      "Data columns (total 13 columns):\n",
      " #   Column          Non-Null Count  Dtype  \n",
      "---  ------          --------------  -----  \n",
      " 0   App             10841 non-null  object \n",
      " 1   Category        10841 non-null  object \n",
      " 2   Rating          9367 non-null   float64\n",
      " 3   Reviews         10841 non-null  object \n",
      " 4   Size            10841 non-null  object \n",
      " 5   Installs        10841 non-null  object \n",
      " 6   Type            10840 non-null  object \n",
      " 7   Price           10841 non-null  object \n",
      " 8   Content Rating  10840 non-null  object \n",
      " 9   Genres          10841 non-null  object \n",
      " 10  Last Updated    10841 non-null  object \n",
      " 11  Current Ver     10833 non-null  object \n",
      " 12  Android Ver     10838 non-null  object \n",
      "dtypes: float64(1), object(12)\n",
      "memory usage: 1.1+ MB\n"
     ]
    }
   ],
   "source": [
    "df.info()"
   ]
  },
  {
   "cell_type": "code",
   "execution_count": 7,
   "id": "c21dce71",
   "metadata": {},
   "outputs": [
    {
     "data": {
      "text/plain": [
       "array(['19M', '14M', '8.7M', '25M', '2.8M', '5.6M', '29M', '33M', '3.1M',\n",
       "       '28M', '12M', '20M', '21M', '37M', '2.7M', '5.5M', '17M', '39M',\n",
       "       '31M', '4.2M', '7.0M', '23M', '6.0M', '6.1M', '4.6M', '9.2M',\n",
       "       '5.2M', '11M', '24M', 'Varies with device', '9.4M', '15M', '10M',\n",
       "       '1.2M', '26M', '8.0M', '7.9M', '56M', '57M', '35M', '54M', '201k',\n",
       "       '3.6M', '5.7M', '8.6M', '2.4M', '27M', '2.5M', '16M', '3.4M',\n",
       "       '8.9M', '3.9M', '2.9M', '38M', '32M', '5.4M', '18M', '1.1M',\n",
       "       '2.2M', '4.5M', '9.8M', '52M', '9.0M', '6.7M', '30M', '2.6M',\n",
       "       '7.1M', '3.7M', '22M', '7.4M', '6.4M', '3.2M', '8.2M', '9.9M',\n",
       "       '4.9M', '9.5M', '5.0M', '5.9M', '13M', '73M', '6.8M', '3.5M',\n",
       "       '4.0M', '2.3M', '7.2M', '2.1M', '42M', '7.3M', '9.1M', '55M',\n",
       "       '23k', '6.5M', '1.5M', '7.5M', '51M', '41M', '48M', '8.5M', '46M',\n",
       "       '8.3M', '4.3M', '4.7M', '3.3M', '40M', '7.8M', '8.8M', '6.6M',\n",
       "       '5.1M', '61M', '66M', '79k', '8.4M', '118k', '44M', '695k', '1.6M',\n",
       "       '6.2M', '18k', '53M', '1.4M', '3.0M', '5.8M', '3.8M', '9.6M',\n",
       "       '45M', '63M', '49M', '77M', '4.4M', '4.8M', '70M', '6.9M', '9.3M',\n",
       "       '10.0M', '8.1M', '36M', '84M', '97M', '2.0M', '1.9M', '1.8M',\n",
       "       '5.3M', '47M', '556k', '526k', '76M', '7.6M', '59M', '9.7M', '78M',\n",
       "       '72M', '43M', '7.7M', '6.3M', '334k', '34M', '93M', '65M', '79M',\n",
       "       '100M', '58M', '50M', '68M', '64M', '67M', '60M', '94M', '232k',\n",
       "       '99M', '624k', '95M', '8.5k', '41k', '292k', '11k', '80M', '1.7M',\n",
       "       '74M', '62M', '69M', '75M', '98M', '85M', '82M', '96M', '87M',\n",
       "       '71M', '86M', '91M', '81M', '92M', '83M', '88M', '704k', '862k',\n",
       "       '899k', '378k', '266k', '375k', '1.3M', '975k', '980k', '4.1M',\n",
       "       '89M', '696k', '544k', '525k', '920k', '779k', '853k', '720k',\n",
       "       '713k', '772k', '318k', '58k', '241k', '196k', '857k', '51k',\n",
       "       '953k', '865k', '251k', '930k', '540k', '313k', '746k', '203k',\n",
       "       '26k', '314k', '239k', '371k', '220k', '730k', '756k', '91k',\n",
       "       '293k', '17k', '74k', '14k', '317k', '78k', '924k', '902k', '818k',\n",
       "       '81k', '939k', '169k', '45k', '475k', '965k', '90M', '545k', '61k',\n",
       "       '283k', '655k', '714k', '93k', '872k', '121k', '322k', '1.0M',\n",
       "       '976k', '172k', '238k', '549k', '206k', '954k', '444k', '717k',\n",
       "       '210k', '609k', '308k', '705k', '306k', '904k', '473k', '175k',\n",
       "       '350k', '383k', '454k', '421k', '70k', '812k', '442k', '842k',\n",
       "       '417k', '412k', '459k', '478k', '335k', '782k', '721k', '430k',\n",
       "       '429k', '192k', '200k', '460k', '728k', '496k', '816k', '414k',\n",
       "       '506k', '887k', '613k', '243k', '569k', '778k', '683k', '592k',\n",
       "       '319k', '186k', '840k', '647k', '191k', '373k', '437k', '598k',\n",
       "       '716k', '585k', '982k', '222k', '219k', '55k', '948k', '323k',\n",
       "       '691k', '511k', '951k', '963k', '25k', '554k', '351k', '27k',\n",
       "       '82k', '208k', '913k', '514k', '551k', '29k', '103k', '898k',\n",
       "       '743k', '116k', '153k', '209k', '353k', '499k', '173k', '597k',\n",
       "       '809k', '122k', '411k', '400k', '801k', '787k', '237k', '50k',\n",
       "       '643k', '986k', '97k', '516k', '837k', '780k', '961k', '269k',\n",
       "       '20k', '498k', '600k', '749k', '642k', '881k', '72k', '656k',\n",
       "       '601k', '221k', '228k', '108k', '940k', '176k', '33k', '663k',\n",
       "       '34k', '942k', '259k', '164k', '458k', '245k', '629k', '28k',\n",
       "       '288k', '775k', '785k', '636k', '916k', '994k', '309k', '485k',\n",
       "       '914k', '903k', '608k', '500k', '54k', '562k', '847k', '957k',\n",
       "       '688k', '811k', '270k', '48k', '329k', '523k', '921k', '874k',\n",
       "       '981k', '784k', '280k', '24k', '518k', '754k', '892k', '154k',\n",
       "       '860k', '364k', '387k', '626k', '161k', '879k', '39k', '970k',\n",
       "       '170k', '141k', '160k', '144k', '143k', '190k', '376k', '193k',\n",
       "       '246k', '73k', '658k', '992k', '253k', '420k', '404k', '1,000+',\n",
       "       '470k', '226k', '240k', '89k', '234k', '257k', '861k', '467k',\n",
       "       '157k', '44k', '676k', '67k', '552k', '885k', '1020k', '582k',\n",
       "       '619k'], dtype=object)"
      ]
     },
     "execution_count": 7,
     "metadata": {},
     "output_type": "execute_result"
    }
   ],
   "source": [
    "df['Size'].unique()"
   ]
  },
  {
   "cell_type": "code",
   "execution_count": 8,
   "id": "86cc9d5b",
   "metadata": {},
   "outputs": [
    {
     "data": {
      "text/plain": [
       "8829"
      ]
     },
     "execution_count": 8,
     "metadata": {},
     "output_type": "execute_result"
    }
   ],
   "source": [
    "# find the values in size column which has 'M' in it\n",
    "df['Size'].loc[df['Size'].str.contains('M')].value_counts().sum()"
   ]
  },
  {
   "cell_type": "code",
   "execution_count": 9,
   "id": "a2573117",
   "metadata": {},
   "outputs": [
    {
     "data": {
      "text/plain": [
       "316"
      ]
     },
     "execution_count": 9,
     "metadata": {},
     "output_type": "execute_result"
    }
   ],
   "source": [
    "# find the values in size column which has 'k' in it\n",
    "df['Size'].loc[df['Size'].str.contains('k')].value_counts().sum()"
   ]
  },
  {
   "cell_type": "code",
   "execution_count": 10,
   "id": "ce5073df",
   "metadata": {},
   "outputs": [
    {
     "data": {
      "text/plain": [
       "1695"
      ]
     },
     "execution_count": 10,
     "metadata": {},
     "output_type": "execute_result"
    }
   ],
   "source": [
    "# find the values in size column which has 'Varies with device' in it\n",
    "df['Size'].loc[df['Size'].str.contains('Varies with device')].value_counts().sum()"
   ]
  },
  {
   "cell_type": "code",
   "execution_count": 11,
   "id": "1487ac6c",
   "metadata": {},
   "outputs": [
    {
     "data": {
      "text/plain": [
       "10841"
      ]
     },
     "execution_count": 11,
     "metadata": {},
     "output_type": "execute_result"
    }
   ],
   "source": [
    "# Total Values in Size column\n",
    "df['Size'].value_counts().sum()"
   ]
  },
  {
   "cell_type": "code",
   "execution_count": 12,
   "id": "7edfec2b",
   "metadata": {},
   "outputs": [
    {
     "data": {
      "text/plain": [
       "10841"
      ]
     },
     "execution_count": 12,
     "metadata": {},
     "output_type": "execute_result"
    }
   ],
   "source": [
    "# taking sum of all the values in size column which has 'M', 'K' and 'varies with device' in it\n",
    "8830+316+1695"
   ]
  },
  {
   "cell_type": "markdown",
   "id": "ab35a08d",
   "metadata": {},
   "source": [
    "- We have 8,830 values represented in M units.\n",
    "- Additionally, there are 316 values denoted in K units.\n",
    "- Furthermore, there are 1,695 values labeled as \"Varies with device.\"\n",
    "- To proceed, we will convert the M and K units into bytes.\n",
    "- Next, we will remove the M and K suffixes from the values.\n",
    "- Finally, we will convert these values into numeric data types."
   ]
  },
  {
   "cell_type": "code",
   "execution_count": 13,
   "id": "c8761ba1",
   "metadata": {},
   "outputs": [],
   "source": [
    "# convert the size column to numeric by multiplying the values with 1024 if it has 'k' in it and 1024*1024 if it has# this function will convert the size column to numeric\n",
    "def convert_size(size):\n",
    "    if isinstance(size, str):\n",
    "        if 'k' in size:\n",
    "            return float(size.replace('k', '')) * 1024\n",
    "        elif 'M' in size:\n",
    "            return float(size.replace('M', '')) * 1024 * 1024\n",
    "        elif 'Varies with device' in size:\n",
    "            return np.nan\n",
    "    return size\n",
    "df['Size'] = df['Size'].apply(convert_size)"
   ]
  },
  {
   "cell_type": "code",
   "execution_count": 14,
   "id": "1e8c09c8",
   "metadata": {},
   "outputs": [],
   "source": [
    "# rename the column name 'Size' to 'Size_in_bytes'\n",
    "df.rename(columns={'Size': 'Size_in_bytes'}, inplace=True)"
   ]
  },
  {
   "cell_type": "markdown",
   "id": "b1089fbc",
   "metadata": {},
   "source": [
    "## Target Column: Category"
   ]
  },
  {
   "cell_type": "code",
   "execution_count": 15,
   "id": "0e58511b",
   "metadata": {},
   "outputs": [
    {
     "data": {
      "text/plain": [
       "FAMILY                 1972\n",
       "GAME                   1144\n",
       "TOOLS                   843\n",
       "MEDICAL                 463\n",
       "BUSINESS                460\n",
       "PRODUCTIVITY            424\n",
       "PERSONALIZATION         392\n",
       "COMMUNICATION           387\n",
       "SPORTS                  384\n",
       "LIFESTYLE               382\n",
       "FINANCE                 366\n",
       "HEALTH_AND_FITNESS      341\n",
       "PHOTOGRAPHY             335\n",
       "SOCIAL                  295\n",
       "NEWS_AND_MAGAZINES      283\n",
       "SHOPPING                260\n",
       "TRAVEL_AND_LOCAL        258\n",
       "DATING                  234\n",
       "BOOKS_AND_REFERENCE     231\n",
       "VIDEO_PLAYERS           175\n",
       "EDUCATION               156\n",
       "ENTERTAINMENT           149\n",
       "MAPS_AND_NAVIGATION     137\n",
       "FOOD_AND_DRINK          127\n",
       "HOUSE_AND_HOME           88\n",
       "LIBRARIES_AND_DEMO       85\n",
       "AUTO_AND_VEHICLES        85\n",
       "WEATHER                  82\n",
       "ART_AND_DESIGN           65\n",
       "EVENTS                   64\n",
       "PARENTING                60\n",
       "COMICS                   60\n",
       "BEAUTY                   53\n",
       "1.9                       1\n",
       "Name: Category, dtype: int64"
      ]
     },
     "execution_count": 15,
     "metadata": {},
     "output_type": "execute_result"
    }
   ],
   "source": [
    "df['Category'].value_counts()"
   ]
  },
  {
   "cell_type": "code",
   "execution_count": 16,
   "id": "18ce6e17",
   "metadata": {},
   "outputs": [
    {
     "data": {
      "text/html": [
       "<div>\n",
       "<style scoped>\n",
       "    .dataframe tbody tr th:only-of-type {\n",
       "        vertical-align: middle;\n",
       "    }\n",
       "\n",
       "    .dataframe tbody tr th {\n",
       "        vertical-align: top;\n",
       "    }\n",
       "\n",
       "    .dataframe thead th {\n",
       "        text-align: right;\n",
       "    }\n",
       "</style>\n",
       "<table border=\"1\" class=\"dataframe\">\n",
       "  <thead>\n",
       "    <tr style=\"text-align: right;\">\n",
       "      <th></th>\n",
       "      <th>App</th>\n",
       "      <th>Category</th>\n",
       "      <th>Rating</th>\n",
       "      <th>Reviews</th>\n",
       "      <th>Size_in_bytes</th>\n",
       "      <th>Installs</th>\n",
       "      <th>Type</th>\n",
       "      <th>Price</th>\n",
       "      <th>Content Rating</th>\n",
       "      <th>Genres</th>\n",
       "      <th>Last Updated</th>\n",
       "      <th>Current Ver</th>\n",
       "      <th>Android Ver</th>\n",
       "    </tr>\n",
       "  </thead>\n",
       "  <tbody>\n",
       "    <tr>\n",
       "      <th>10472</th>\n",
       "      <td>Life Made WI-Fi Touchscreen Photo Frame</td>\n",
       "      <td>1.9</td>\n",
       "      <td>19.0</td>\n",
       "      <td>3.0M</td>\n",
       "      <td>1,000+</td>\n",
       "      <td>Free</td>\n",
       "      <td>0</td>\n",
       "      <td>Everyone</td>\n",
       "      <td>NaN</td>\n",
       "      <td>February 11, 2018</td>\n",
       "      <td>1.0.19</td>\n",
       "      <td>4.0 and up</td>\n",
       "      <td>NaN</td>\n",
       "    </tr>\n",
       "  </tbody>\n",
       "</table>\n",
       "</div>"
      ],
      "text/plain": [
       "                                           App Category  Rating Reviews  \\\n",
       "10472  Life Made WI-Fi Touchscreen Photo Frame      1.9    19.0    3.0M   \n",
       "\n",
       "      Size_in_bytes Installs Type     Price Content Rating             Genres  \\\n",
       "10472        1,000+     Free    0  Everyone            NaN  February 11, 2018   \n",
       "\n",
       "      Last Updated Current Ver Android Ver  \n",
       "10472       1.0.19  4.0 and up         NaN  "
      ]
     },
     "execution_count": 16,
     "metadata": {},
     "output_type": "execute_result"
    }
   ],
   "source": [
    "df[df['Category'] == '1.9']"
   ]
  },
  {
   "cell_type": "code",
   "execution_count": 17,
   "id": "84a8e70a",
   "metadata": {},
   "outputs": [
    {
     "data": {
      "text/plain": [
       "array([['Life Made WI-Fi Touchscreen Photo Frame', '1.9', 19.0, '3.0M',\n",
       "        '1,000+', 'Free', '0', 'Everyone', nan, 'February 11, 2018',\n",
       "        '1.0.19', '4.0 and up', nan]], dtype=object)"
      ]
     },
     "execution_count": 17,
     "metadata": {},
     "output_type": "execute_result"
    }
   ],
   "source": [
    "df[df['Category'] == '1.9'].values"
   ]
  },
  {
   "cell_type": "code",
   "execution_count": 18,
   "id": "a870be41",
   "metadata": {},
   "outputs": [
    {
     "data": {
      "text/plain": [
       "['Life Made WI-Fi Touchscreen Photo Frame',\n",
       " 'LIFESTYLE',\n",
       " '1.9',\n",
       " 19.0,\n",
       " '3.0M',\n",
       " '1,000+',\n",
       " 'Free',\n",
       " '0',\n",
       " 'Everyone',\n",
       " 'life style',\n",
       " 'February 11, 2018',\n",
       " '1.0.19',\n",
       " '4.0 and up']"
      ]
     },
     "execution_count": 18,
     "metadata": {},
     "output_type": "execute_result"
    }
   ],
   "source": [
    "clean_list = ['Life Made WI-Fi Touchscreen Photo Frame', 'LIFESTYLE', '1.9', 19.0, '3.0M',\n",
    "'1,000+', 'Free', '0', 'Everyone', 'life style', 'February 11, 2018', '1.0.19', '4.0 and up']\n",
    "clean_list"
   ]
  },
  {
   "cell_type": "code",
   "execution_count": 19,
   "id": "b535f453",
   "metadata": {},
   "outputs": [],
   "source": [
    "df[df['Category'] == '1.9'] = clean_list"
   ]
  },
  {
   "cell_type": "code",
   "execution_count": 20,
   "id": "ca659461",
   "metadata": {},
   "outputs": [
    {
     "data": {
      "text/plain": [
       "FAMILY                 1972\n",
       "GAME                   1144\n",
       "TOOLS                   843\n",
       "MEDICAL                 463\n",
       "BUSINESS                460\n",
       "PRODUCTIVITY            424\n",
       "PERSONALIZATION         392\n",
       "COMMUNICATION           387\n",
       "SPORTS                  384\n",
       "LIFESTYLE               383\n",
       "FINANCE                 366\n",
       "HEALTH_AND_FITNESS      341\n",
       "PHOTOGRAPHY             335\n",
       "SOCIAL                  295\n",
       "NEWS_AND_MAGAZINES      283\n",
       "SHOPPING                260\n",
       "TRAVEL_AND_LOCAL        258\n",
       "DATING                  234\n",
       "BOOKS_AND_REFERENCE     231\n",
       "VIDEO_PLAYERS           175\n",
       "EDUCATION               156\n",
       "ENTERTAINMENT           149\n",
       "MAPS_AND_NAVIGATION     137\n",
       "FOOD_AND_DRINK          127\n",
       "HOUSE_AND_HOME           88\n",
       "AUTO_AND_VEHICLES        85\n",
       "LIBRARIES_AND_DEMO       85\n",
       "WEATHER                  82\n",
       "ART_AND_DESIGN           65\n",
       "EVENTS                   64\n",
       "PARENTING                60\n",
       "COMICS                   60\n",
       "BEAUTY                   53\n",
       "Name: Category, dtype: int64"
      ]
     },
     "execution_count": 20,
     "metadata": {},
     "output_type": "execute_result"
    }
   ],
   "source": [
    "df['Category'].value_counts()"
   ]
  },
  {
   "cell_type": "markdown",
   "id": "3cbc797e",
   "metadata": {},
   "source": [
    "# Observations"
   ]
  },
  {
   "cell_type": "markdown",
   "id": "d96f454e",
   "metadata": {},
   "source": [
    "we can see above there is no messy value remaining."
   ]
  },
  {
   "cell_type": "markdown",
   "id": "f4d0744d",
   "metadata": {},
   "source": [
    "## Target Column : App"
   ]
  },
  {
   "cell_type": "code",
   "execution_count": 21,
   "id": "67161631",
   "metadata": {},
   "outputs": [
    {
     "data": {
      "text/plain": [
       "0           Photo Editor & Candy Camera & Grid & ScrapBook\n",
       "1                                      Coloring book moana\n",
       "2        U Launcher Lite – FREE Live Cool Themes, Hide ...\n",
       "3                                    Sketch - Draw & Paint\n",
       "4                    Pixel Draw - Number Art Coloring Book\n",
       "                               ...                        \n",
       "10836                                     Sya9a Maroc - FR\n",
       "10837                     Fr. Mike Schmitz Audio Teachings\n",
       "10838                               Parkinson Exercices FR\n",
       "10839                        The SCP Foundation DB fr nn5n\n",
       "10840        iHoroscope - 2018 Daily Horoscope & Astrology\n",
       "Name: App, Length: 10841, dtype: object"
      ]
     },
     "execution_count": 21,
     "metadata": {},
     "output_type": "execute_result"
    }
   ],
   "source": [
    "df['App']"
   ]
  },
  {
   "cell_type": "code",
   "execution_count": 22,
   "id": "6f639759",
   "metadata": {},
   "outputs": [
    {
     "data": {
      "text/plain": [
       "ROBLOX                                                9\n",
       "CBS Sports App - Scores, News, Stats & Watch Live     8\n",
       "ESPN                                                  7\n",
       "Duolingo: Learn Languages Free                        7\n",
       "Candy Crush Saga                                      7\n",
       "                                                     ..\n",
       "Meet U - Get Friends for Snapchat, Kik & Instagram    1\n",
       "U-Report                                              1\n",
       "U of I Community Credit Union                         1\n",
       "Waiting For U Launcher Theme                          1\n",
       "iHoroscope - 2018 Daily Horoscope & Astrology         1\n",
       "Name: App, Length: 9660, dtype: int64"
      ]
     },
     "execution_count": 22,
     "metadata": {},
     "output_type": "execute_result"
    }
   ],
   "source": [
    "app_count = df['App'].value_counts()\n",
    "app_count"
   ]
  },
  {
   "cell_type": "markdown",
   "id": "c5167a2c",
   "metadata": {},
   "source": [
    "### Removing Duplicate Entries\n"
   ]
  },
  {
   "cell_type": "markdown",
   "id": "12eb0a2b",
   "metadata": {},
   "source": [
    "if we explore the Google Play data enough, we'll find that some of the apps have more than one entry. For instance, the app 'Instagram'\n",
    "has 4 entries."
   ]
  },
  {
   "cell_type": "code",
   "execution_count": 23,
   "id": "7d50e769",
   "metadata": {},
   "outputs": [
    {
     "data": {
      "text/plain": [
       "True"
      ]
     },
     "execution_count": 23,
     "metadata": {},
     "output_type": "execute_result"
    }
   ],
   "source": [
    "'Instagram' in app_count[app_count > 1].index"
   ]
  },
  {
   "cell_type": "code",
   "execution_count": 24,
   "id": "f8cad840",
   "metadata": {},
   "outputs": [
    {
     "data": {
      "text/html": [
       "<div>\n",
       "<style scoped>\n",
       "    .dataframe tbody tr th:only-of-type {\n",
       "        vertical-align: middle;\n",
       "    }\n",
       "\n",
       "    .dataframe tbody tr th {\n",
       "        vertical-align: top;\n",
       "    }\n",
       "\n",
       "    .dataframe thead th {\n",
       "        text-align: right;\n",
       "    }\n",
       "</style>\n",
       "<table border=\"1\" class=\"dataframe\">\n",
       "  <thead>\n",
       "    <tr style=\"text-align: right;\">\n",
       "      <th></th>\n",
       "      <th>App</th>\n",
       "      <th>Category</th>\n",
       "      <th>Rating</th>\n",
       "      <th>Reviews</th>\n",
       "      <th>Size_in_bytes</th>\n",
       "      <th>Installs</th>\n",
       "      <th>Type</th>\n",
       "      <th>Price</th>\n",
       "      <th>Content Rating</th>\n",
       "      <th>Genres</th>\n",
       "      <th>Last Updated</th>\n",
       "      <th>Current Ver</th>\n",
       "      <th>Android Ver</th>\n",
       "    </tr>\n",
       "  </thead>\n",
       "  <tbody>\n",
       "    <tr>\n",
       "      <th>2545</th>\n",
       "      <td>Instagram</td>\n",
       "      <td>SOCIAL</td>\n",
       "      <td>4.5</td>\n",
       "      <td>66577313</td>\n",
       "      <td>NaN</td>\n",
       "      <td>1,000,000,000+</td>\n",
       "      <td>Free</td>\n",
       "      <td>0</td>\n",
       "      <td>Teen</td>\n",
       "      <td>Social</td>\n",
       "      <td>July 31, 2018</td>\n",
       "      <td>Varies with device</td>\n",
       "      <td>Varies with device</td>\n",
       "    </tr>\n",
       "    <tr>\n",
       "      <th>2604</th>\n",
       "      <td>Instagram</td>\n",
       "      <td>SOCIAL</td>\n",
       "      <td>4.5</td>\n",
       "      <td>66577446</td>\n",
       "      <td>NaN</td>\n",
       "      <td>1,000,000,000+</td>\n",
       "      <td>Free</td>\n",
       "      <td>0</td>\n",
       "      <td>Teen</td>\n",
       "      <td>Social</td>\n",
       "      <td>July 31, 2018</td>\n",
       "      <td>Varies with device</td>\n",
       "      <td>Varies with device</td>\n",
       "    </tr>\n",
       "    <tr>\n",
       "      <th>2611</th>\n",
       "      <td>Instagram</td>\n",
       "      <td>SOCIAL</td>\n",
       "      <td>4.5</td>\n",
       "      <td>66577313</td>\n",
       "      <td>NaN</td>\n",
       "      <td>1,000,000,000+</td>\n",
       "      <td>Free</td>\n",
       "      <td>0</td>\n",
       "      <td>Teen</td>\n",
       "      <td>Social</td>\n",
       "      <td>July 31, 2018</td>\n",
       "      <td>Varies with device</td>\n",
       "      <td>Varies with device</td>\n",
       "    </tr>\n",
       "    <tr>\n",
       "      <th>3909</th>\n",
       "      <td>Instagram</td>\n",
       "      <td>SOCIAL</td>\n",
       "      <td>4.5</td>\n",
       "      <td>66509917</td>\n",
       "      <td>NaN</td>\n",
       "      <td>1,000,000,000+</td>\n",
       "      <td>Free</td>\n",
       "      <td>0</td>\n",
       "      <td>Teen</td>\n",
       "      <td>Social</td>\n",
       "      <td>July 31, 2018</td>\n",
       "      <td>Varies with device</td>\n",
       "      <td>Varies with device</td>\n",
       "    </tr>\n",
       "  </tbody>\n",
       "</table>\n",
       "</div>"
      ],
      "text/plain": [
       "            App Category Rating   Reviews Size_in_bytes        Installs  Type  \\\n",
       "2545  Instagram   SOCIAL    4.5  66577313           NaN  1,000,000,000+  Free   \n",
       "2604  Instagram   SOCIAL    4.5  66577446           NaN  1,000,000,000+  Free   \n",
       "2611  Instagram   SOCIAL    4.5  66577313           NaN  1,000,000,000+  Free   \n",
       "3909  Instagram   SOCIAL    4.5  66509917           NaN  1,000,000,000+  Free   \n",
       "\n",
       "     Price Content Rating  Genres   Last Updated         Current Ver  \\\n",
       "2545     0           Teen  Social  July 31, 2018  Varies with device   \n",
       "2604     0           Teen  Social  July 31, 2018  Varies with device   \n",
       "2611     0           Teen  Social  July 31, 2018  Varies with device   \n",
       "3909     0           Teen  Social  July 31, 2018  Varies with device   \n",
       "\n",
       "             Android Ver  \n",
       "2545  Varies with device  \n",
       "2604  Varies with device  \n",
       "2611  Varies with device  \n",
       "3909  Varies with device  "
      ]
     },
     "execution_count": 24,
     "metadata": {},
     "output_type": "execute_result"
    }
   ],
   "source": [
    "duplicated_app = df[df.duplicated(subset=['App'], keep= False)]\n",
    "duplicated_app[duplicated_app['App'] == 'Instagram']"
   ]
  },
  {
   "cell_type": "code",
   "execution_count": 25,
   "id": "355db8b0",
   "metadata": {},
   "outputs": [
    {
     "data": {
      "text/plain": [
       "798"
      ]
     },
     "execution_count": 25,
     "metadata": {},
     "output_type": "execute_result"
    }
   ],
   "source": [
    "#Number of duplicate apps\n",
    "duplicated_app_num = duplicated_app['App'].nunique()\n",
    "duplicated_app_num"
   ]
  },
  {
   "cell_type": "code",
   "execution_count": 26,
   "id": "d1181444",
   "metadata": {},
   "outputs": [
    {
     "data": {
      "text/plain": [
       "10841"
      ]
     },
     "execution_count": 26,
     "metadata": {},
     "output_type": "execute_result"
    }
   ],
   "source": [
    "df.shape[0]"
   ]
  },
  {
   "cell_type": "markdown",
   "id": "666e36a8",
   "metadata": {},
   "source": [
    "- When analyzing data, it's essential to ensure that certain apps aren't counted multiple times, necessitating the removal of duplicate entries and retaining only one entry per app.\n",
    "- Rather than randomly removing duplicate rows, a more effective approach is to retain the entry with the maximum number of reviews for each app.\n",
    "- For instance, upon examining rows related to Instagram, variations in the number of reviews indicate that the data was collected at different times.\n",
    "- Therefore, the strategy involves keeping the row with the highest number of reviews, as higher review counts typically correspond to more reliable ratings."
   ]
  },
  {
   "cell_type": "code",
   "execution_count": 27,
   "id": "46582f93",
   "metadata": {},
   "outputs": [],
   "source": [
    "# Get the numbers of max reviews for each app\n",
    "rev_max = df.groupby('App')['Reviews'].max()"
   ]
  },
  {
   "cell_type": "code",
   "execution_count": 28,
   "id": "87ac5821",
   "metadata": {},
   "outputs": [
    {
     "data": {
      "text/plain": [
       "'66577446'"
      ]
     },
     "execution_count": 28,
     "metadata": {},
     "output_type": "execute_result"
    }
   ],
   "source": [
    "rev_max['Instagram']"
   ]
  },
  {
   "cell_type": "code",
   "execution_count": 29,
   "id": "4e7418f9",
   "metadata": {},
   "outputs": [
    {
     "data": {
      "text/html": [
       "<div>\n",
       "<style scoped>\n",
       "    .dataframe tbody tr th:only-of-type {\n",
       "        vertical-align: middle;\n",
       "    }\n",
       "\n",
       "    .dataframe tbody tr th {\n",
       "        vertical-align: top;\n",
       "    }\n",
       "\n",
       "    .dataframe thead th {\n",
       "        text-align: right;\n",
       "    }\n",
       "</style>\n",
       "<table border=\"1\" class=\"dataframe\">\n",
       "  <thead>\n",
       "    <tr style=\"text-align: right;\">\n",
       "      <th></th>\n",
       "      <th>App</th>\n",
       "      <th>Category</th>\n",
       "      <th>Rating</th>\n",
       "      <th>Reviews</th>\n",
       "      <th>Size_in_bytes</th>\n",
       "      <th>Installs</th>\n",
       "      <th>Type</th>\n",
       "      <th>Price</th>\n",
       "      <th>Content Rating</th>\n",
       "      <th>Genres</th>\n",
       "      <th>Last Updated</th>\n",
       "      <th>Current Ver</th>\n",
       "      <th>Android Ver</th>\n",
       "    </tr>\n",
       "  </thead>\n",
       "  <tbody>\n",
       "    <tr>\n",
       "      <th>2545</th>\n",
       "      <td>Instagram</td>\n",
       "      <td>SOCIAL</td>\n",
       "      <td>4.5</td>\n",
       "      <td>66577313</td>\n",
       "      <td>NaN</td>\n",
       "      <td>1,000,000,000+</td>\n",
       "      <td>Free</td>\n",
       "      <td>0</td>\n",
       "      <td>Teen</td>\n",
       "      <td>Social</td>\n",
       "      <td>July 31, 2018</td>\n",
       "      <td>Varies with device</td>\n",
       "      <td>Varies with device</td>\n",
       "    </tr>\n",
       "    <tr>\n",
       "      <th>2604</th>\n",
       "      <td>Instagram</td>\n",
       "      <td>SOCIAL</td>\n",
       "      <td>4.5</td>\n",
       "      <td>66577446</td>\n",
       "      <td>NaN</td>\n",
       "      <td>1,000,000,000+</td>\n",
       "      <td>Free</td>\n",
       "      <td>0</td>\n",
       "      <td>Teen</td>\n",
       "      <td>Social</td>\n",
       "      <td>July 31, 2018</td>\n",
       "      <td>Varies with device</td>\n",
       "      <td>Varies with device</td>\n",
       "    </tr>\n",
       "    <tr>\n",
       "      <th>2611</th>\n",
       "      <td>Instagram</td>\n",
       "      <td>SOCIAL</td>\n",
       "      <td>4.5</td>\n",
       "      <td>66577313</td>\n",
       "      <td>NaN</td>\n",
       "      <td>1,000,000,000+</td>\n",
       "      <td>Free</td>\n",
       "      <td>0</td>\n",
       "      <td>Teen</td>\n",
       "      <td>Social</td>\n",
       "      <td>July 31, 2018</td>\n",
       "      <td>Varies with device</td>\n",
       "      <td>Varies with device</td>\n",
       "    </tr>\n",
       "    <tr>\n",
       "      <th>3909</th>\n",
       "      <td>Instagram</td>\n",
       "      <td>SOCIAL</td>\n",
       "      <td>4.5</td>\n",
       "      <td>66509917</td>\n",
       "      <td>NaN</td>\n",
       "      <td>1,000,000,000+</td>\n",
       "      <td>Free</td>\n",
       "      <td>0</td>\n",
       "      <td>Teen</td>\n",
       "      <td>Social</td>\n",
       "      <td>July 31, 2018</td>\n",
       "      <td>Varies with device</td>\n",
       "      <td>Varies with device</td>\n",
       "    </tr>\n",
       "  </tbody>\n",
       "</table>\n",
       "</div>"
      ],
      "text/plain": [
       "            App Category Rating   Reviews Size_in_bytes        Installs  Type  \\\n",
       "2545  Instagram   SOCIAL    4.5  66577313           NaN  1,000,000,000+  Free   \n",
       "2604  Instagram   SOCIAL    4.5  66577446           NaN  1,000,000,000+  Free   \n",
       "2611  Instagram   SOCIAL    4.5  66577313           NaN  1,000,000,000+  Free   \n",
       "3909  Instagram   SOCIAL    4.5  66509917           NaN  1,000,000,000+  Free   \n",
       "\n",
       "     Price Content Rating  Genres   Last Updated         Current Ver  \\\n",
       "2545     0           Teen  Social  July 31, 2018  Varies with device   \n",
       "2604     0           Teen  Social  July 31, 2018  Varies with device   \n",
       "2611     0           Teen  Social  July 31, 2018  Varies with device   \n",
       "3909     0           Teen  Social  July 31, 2018  Varies with device   \n",
       "\n",
       "             Android Ver  \n",
       "2545  Varies with device  \n",
       "2604  Varies with device  \n",
       "2611  Varies with device  \n",
       "3909  Varies with device  "
      ]
     },
     "execution_count": 29,
     "metadata": {},
     "output_type": "execute_result"
    }
   ],
   "source": [
    "duplicated_app[duplicated_app['App'] == 'Instagram']"
   ]
  },
  {
   "cell_type": "code",
   "execution_count": 30,
   "id": "c10f2ac2",
   "metadata": {},
   "outputs": [],
   "source": [
    "# create an empty list\n",
    "android_clean = []\n",
    "\n",
    "# create an empty list to keep track on already added apps\n",
    "already_added = []\n",
    "\n",
    "#Iterate through each row of the DataFrame\n",
    "for index, row in df.iterrows():\n",
    "    name=row['App']\n",
    "    n_review=row['Reviews']\n",
    "\n",
    "# check if the current app has the maximum number of reviews and has not added before\n",
    "    if (rev_max[name] == n_review) and (name not in already_added):\n",
    "        android_clean.append(row) # Add the app to the andriod_cleaned list\n",
    "        already_added.append(name) # add the app name to the already_added list"
   ]
  },
  {
   "cell_type": "code",
   "execution_count": 31,
   "id": "e7cbdb5f",
   "metadata": {},
   "outputs": [],
   "source": [
    "android_clean = pd.DataFrame(android_clean)"
   ]
  },
  {
   "cell_type": "markdown",
   "id": "b9fafb8c",
   "metadata": {},
   "source": [
    "### Removing Non-English Apps"
   ]
  },
  {
   "cell_type": "markdown",
   "id": "397c18bb",
   "metadata": {},
   "source": [
    "If you explore dataset enought, you'll find out that names of some of the apps suggest they are not directed towards an English-speaking\n",
    "audience. Below we see couple examples of from both data sets"
   ]
  },
  {
   "cell_type": "code",
   "execution_count": 32,
   "id": "1eb427c5",
   "metadata": {},
   "outputs": [],
   "source": [
    "def is_english(app_name):\n",
    "    lst=[]\n",
    "    for i in app_name:\n",
    "        if ord(i) > 127:\n",
    "            lst.append(False)\n",
    "        else:\n",
    "            lst.append(True)\n",
    "    check = set(lst)\n",
    "    if False in check:\n",
    "        return False\n",
    "    else:\n",
    "        return True"
   ]
  },
  {
   "cell_type": "code",
   "execution_count": 33,
   "id": "acca9c1b",
   "metadata": {},
   "outputs": [
    {
     "data": {
      "text/plain": [
       "True"
      ]
     },
     "execution_count": 33,
     "metadata": {},
     "output_type": "execute_result"
    }
   ],
   "source": [
    "is_english('Instagram')"
   ]
  },
  {
   "cell_type": "code",
   "execution_count": 34,
   "id": "78428f27",
   "metadata": {},
   "outputs": [
    {
     "data": {
      "text/plain": [
       "False"
      ]
     },
     "execution_count": 34,
     "metadata": {},
     "output_type": "execute_result"
    }
   ],
   "source": [
    "is_english('Jokes 😂')"
   ]
  },
  {
   "cell_type": "markdown",
   "id": "d459b541",
   "metadata": {},
   "source": [
    "To minimize the impact of data loss, we'll only remove apps if its name has more than three non-ASCII characters.\n",
    "Modifying 'is_english' function:"
   ]
  },
  {
   "cell_type": "code",
   "execution_count": 35,
   "id": "5bc6aa34",
   "metadata": {},
   "outputs": [],
   "source": [
    "def is_english(app_name):\n",
    "    lst=[]\n",
    "    for i in app_name:\n",
    "        if ord(i) > 127:\n",
    "            lst.append(False)\n",
    "        else:\n",
    "            lst.append(True)\n",
    "    non_ascii = 0\n",
    "    for j in lst:\n",
    "        if j == False:\n",
    "            non_ascii += 1\n",
    "    if non_ascii >3:\n",
    "        return False\n",
    "    else:\n",
    "        return True"
   ]
  },
  {
   "cell_type": "code",
   "execution_count": 36,
   "id": "ff6ddc29",
   "metadata": {},
   "outputs": [
    {
     "data": {
      "text/plain": [
       "True"
      ]
     },
     "execution_count": 36,
     "metadata": {},
     "output_type": "execute_result"
    }
   ],
   "source": [
    "is_english('Jokes 😂')"
   ]
  },
  {
   "cell_type": "code",
   "execution_count": 37,
   "id": "1bca64ad",
   "metadata": {},
   "outputs": [
    {
     "data": {
      "text/plain": [
       "False"
      ]
     },
     "execution_count": 37,
     "metadata": {},
     "output_type": "execute_result"
    }
   ],
   "source": [
    "is_english('Jokes 😂😂😂😂')"
   ]
  },
  {
   "cell_type": "code",
   "execution_count": 38,
   "id": "860931f6",
   "metadata": {},
   "outputs": [
    {
     "data": {
      "text/html": [
       "<div>\n",
       "<style scoped>\n",
       "    .dataframe tbody tr th:only-of-type {\n",
       "        vertical-align: middle;\n",
       "    }\n",
       "\n",
       "    .dataframe tbody tr th {\n",
       "        vertical-align: top;\n",
       "    }\n",
       "\n",
       "    .dataframe thead th {\n",
       "        text-align: right;\n",
       "    }\n",
       "</style>\n",
       "<table border=\"1\" class=\"dataframe\">\n",
       "  <thead>\n",
       "    <tr style=\"text-align: right;\">\n",
       "      <th></th>\n",
       "      <th>App</th>\n",
       "      <th>Category</th>\n",
       "      <th>Rating</th>\n",
       "      <th>Reviews</th>\n",
       "      <th>Size_in_bytes</th>\n",
       "      <th>Installs</th>\n",
       "      <th>Type</th>\n",
       "      <th>Price</th>\n",
       "      <th>Content Rating</th>\n",
       "      <th>Genres</th>\n",
       "      <th>Last Updated</th>\n",
       "      <th>Current Ver</th>\n",
       "      <th>Android Ver</th>\n",
       "    </tr>\n",
       "  </thead>\n",
       "  <tbody>\n",
       "    <tr>\n",
       "      <th>0</th>\n",
       "      <td>Photo Editor &amp; Candy Camera &amp; Grid &amp; ScrapBook</td>\n",
       "      <td>ART_AND_DESIGN</td>\n",
       "      <td>4.1</td>\n",
       "      <td>159</td>\n",
       "      <td>19922944.0</td>\n",
       "      <td>10,000+</td>\n",
       "      <td>Free</td>\n",
       "      <td>0</td>\n",
       "      <td>Everyone</td>\n",
       "      <td>Art &amp; Design</td>\n",
       "      <td>January 7, 2018</td>\n",
       "      <td>1.0.0</td>\n",
       "      <td>4.0.3 and up</td>\n",
       "    </tr>\n",
       "    <tr>\n",
       "      <th>2</th>\n",
       "      <td>U Launcher Lite – FREE Live Cool Themes, Hide ...</td>\n",
       "      <td>ART_AND_DESIGN</td>\n",
       "      <td>4.7</td>\n",
       "      <td>87510</td>\n",
       "      <td>9122611.2</td>\n",
       "      <td>5,000,000+</td>\n",
       "      <td>Free</td>\n",
       "      <td>0</td>\n",
       "      <td>Everyone</td>\n",
       "      <td>Art &amp; Design</td>\n",
       "      <td>August 1, 2018</td>\n",
       "      <td>1.2.4</td>\n",
       "      <td>4.0.3 and up</td>\n",
       "    </tr>\n",
       "    <tr>\n",
       "      <th>3</th>\n",
       "      <td>Sketch - Draw &amp; Paint</td>\n",
       "      <td>ART_AND_DESIGN</td>\n",
       "      <td>4.5</td>\n",
       "      <td>215644</td>\n",
       "      <td>26214400.0</td>\n",
       "      <td>50,000,000+</td>\n",
       "      <td>Free</td>\n",
       "      <td>0</td>\n",
       "      <td>Teen</td>\n",
       "      <td>Art &amp; Design</td>\n",
       "      <td>June 8, 2018</td>\n",
       "      <td>Varies with device</td>\n",
       "      <td>4.2 and up</td>\n",
       "    </tr>\n",
       "    <tr>\n",
       "      <th>4</th>\n",
       "      <td>Pixel Draw - Number Art Coloring Book</td>\n",
       "      <td>ART_AND_DESIGN</td>\n",
       "      <td>4.3</td>\n",
       "      <td>967</td>\n",
       "      <td>2936012.8</td>\n",
       "      <td>100,000+</td>\n",
       "      <td>Free</td>\n",
       "      <td>0</td>\n",
       "      <td>Everyone</td>\n",
       "      <td>Art &amp; Design;Creativity</td>\n",
       "      <td>June 20, 2018</td>\n",
       "      <td>1.1</td>\n",
       "      <td>4.4 and up</td>\n",
       "    </tr>\n",
       "    <tr>\n",
       "      <th>5</th>\n",
       "      <td>Paper flowers instructions</td>\n",
       "      <td>ART_AND_DESIGN</td>\n",
       "      <td>4.4</td>\n",
       "      <td>167</td>\n",
       "      <td>5872025.6</td>\n",
       "      <td>50,000+</td>\n",
       "      <td>Free</td>\n",
       "      <td>0</td>\n",
       "      <td>Everyone</td>\n",
       "      <td>Art &amp; Design</td>\n",
       "      <td>March 26, 2017</td>\n",
       "      <td>1.0</td>\n",
       "      <td>2.3 and up</td>\n",
       "    </tr>\n",
       "  </tbody>\n",
       "</table>\n",
       "</div>"
      ],
      "text/plain": [
       "                                                 App        Category Rating  \\\n",
       "0     Photo Editor & Candy Camera & Grid & ScrapBook  ART_AND_DESIGN    4.1   \n",
       "2  U Launcher Lite – FREE Live Cool Themes, Hide ...  ART_AND_DESIGN    4.7   \n",
       "3                              Sketch - Draw & Paint  ART_AND_DESIGN    4.5   \n",
       "4              Pixel Draw - Number Art Coloring Book  ART_AND_DESIGN    4.3   \n",
       "5                         Paper flowers instructions  ART_AND_DESIGN    4.4   \n",
       "\n",
       "  Reviews Size_in_bytes     Installs  Type Price Content Rating  \\\n",
       "0     159    19922944.0      10,000+  Free     0       Everyone   \n",
       "2   87510     9122611.2   5,000,000+  Free     0       Everyone   \n",
       "3  215644    26214400.0  50,000,000+  Free     0           Teen   \n",
       "4     967     2936012.8     100,000+  Free     0       Everyone   \n",
       "5     167     5872025.6      50,000+  Free     0       Everyone   \n",
       "\n",
       "                    Genres     Last Updated         Current Ver   Android Ver  \n",
       "0             Art & Design  January 7, 2018               1.0.0  4.0.3 and up  \n",
       "2             Art & Design   August 1, 2018               1.2.4  4.0.3 and up  \n",
       "3             Art & Design     June 8, 2018  Varies with device    4.2 and up  \n",
       "4  Art & Design;Creativity    June 20, 2018                 1.1    4.4 and up  \n",
       "5             Art & Design   March 26, 2017                 1.0    2.3 and up  "
      ]
     },
     "execution_count": 38,
     "metadata": {},
     "output_type": "execute_result"
    }
   ],
   "source": [
    "android_english = android_clean[android_clean['App'].apply(is_english)]\n",
    "android_english.head()"
   ]
  },
  {
   "cell_type": "markdown",
   "id": "cdd282be",
   "metadata": {},
   "source": [
    "### Isolating the Free Apps"
   ]
  },
  {
   "cell_type": "markdown",
   "id": "bb9b287e",
   "metadata": {},
   "source": [
    "As we metioned in the introduction, we only build apps that are free to download and instal, and our main source of revence consists of\n",
    "in-apps ads. Our datasets contain both free and non-free apps, and we'll need to isolate only the free apps for our analysis for both the\n",
    "datasets\n"
   ]
  },
  {
   "cell_type": "markdown",
   "id": "c8aa6ad1",
   "metadata": {},
   "source": [
    "### Target Column : Price"
   ]
  },
  {
   "cell_type": "code",
   "execution_count": 39,
   "id": "381c5b60",
   "metadata": {},
   "outputs": [
    {
     "data": {
      "text/plain": [
       "array(['0', '$4.99', '$3.99', '$6.99', '$1.49', '$2.99', '$7.99', '$5.99',\n",
       "       '$3.49', '$1.99', '$9.99', '$7.49', '$0.99', '$9.00', '$5.49',\n",
       "       '$10.00', '$11.99', '$79.99', '$16.99', '$14.99', '$1.00',\n",
       "       '$29.99', '$12.99', '$2.49', '$24.99', '$10.99', '$1.50', '$19.99',\n",
       "       '$15.99', '$33.99', '$74.99', '$39.99', '$3.95', '$4.49', '$1.70',\n",
       "       '$8.99', '$2.00', '$3.88', '$25.99', '$399.99', '$17.99',\n",
       "       '$400.00', '$3.02', '$1.76', '$4.84', '$4.77', '$1.61', '$2.50',\n",
       "       '$1.59', '$6.49', '$1.29', '$5.00', '$13.99', '$299.99', '$379.99',\n",
       "       '$37.99', '$18.99', '$389.99', '$19.90', '$8.49', '$1.75',\n",
       "       '$14.00', '$4.85', '$46.99', '$109.99', '$154.99', '$3.08',\n",
       "       '$2.59', '$4.80', '$1.96', '$19.40', '$3.90', '$4.59', '$15.46',\n",
       "       '$3.04', '$4.29', '$2.60', '$3.28', '$4.60', '$28.99', '$2.95',\n",
       "       '$2.90', '$1.97', '$200.00', '$89.99', '$2.56', '$30.99', '$3.61',\n",
       "       '$394.99', '$1.26', '$1.20', '$1.04'], dtype=object)"
      ]
     },
     "execution_count": 39,
     "metadata": {},
     "output_type": "execute_result"
    }
   ],
   "source": [
    "android_english['Price'].unique()"
   ]
  },
  {
   "cell_type": "code",
   "execution_count": 40,
   "id": "d83a6aa9",
   "metadata": {},
   "outputs": [],
   "source": [
    "android_final = android_english[android_english['Price'] == '0']"
   ]
  },
  {
   "cell_type": "code",
   "execution_count": 41,
   "id": "41c70bbb",
   "metadata": {},
   "outputs": [
    {
     "data": {
      "text/html": [
       "<div>\n",
       "<style scoped>\n",
       "    .dataframe tbody tr th:only-of-type {\n",
       "        vertical-align: middle;\n",
       "    }\n",
       "\n",
       "    .dataframe tbody tr th {\n",
       "        vertical-align: top;\n",
       "    }\n",
       "\n",
       "    .dataframe thead th {\n",
       "        text-align: right;\n",
       "    }\n",
       "</style>\n",
       "<table border=\"1\" class=\"dataframe\">\n",
       "  <thead>\n",
       "    <tr style=\"text-align: right;\">\n",
       "      <th></th>\n",
       "      <th>App</th>\n",
       "      <th>Category</th>\n",
       "      <th>Rating</th>\n",
       "      <th>Reviews</th>\n",
       "      <th>Size_in_bytes</th>\n",
       "      <th>Installs</th>\n",
       "      <th>Type</th>\n",
       "      <th>Price</th>\n",
       "      <th>Content Rating</th>\n",
       "      <th>Genres</th>\n",
       "      <th>Last Updated</th>\n",
       "      <th>Current Ver</th>\n",
       "      <th>Android Ver</th>\n",
       "    </tr>\n",
       "  </thead>\n",
       "  <tbody>\n",
       "    <tr>\n",
       "      <th>0</th>\n",
       "      <td>Photo Editor &amp; Candy Camera &amp; Grid &amp; ScrapBook</td>\n",
       "      <td>ART_AND_DESIGN</td>\n",
       "      <td>4.1</td>\n",
       "      <td>159</td>\n",
       "      <td>19922944.0</td>\n",
       "      <td>10,000+</td>\n",
       "      <td>Free</td>\n",
       "      <td>0</td>\n",
       "      <td>Everyone</td>\n",
       "      <td>Art &amp; Design</td>\n",
       "      <td>January 7, 2018</td>\n",
       "      <td>1.0.0</td>\n",
       "      <td>4.0.3 and up</td>\n",
       "    </tr>\n",
       "    <tr>\n",
       "      <th>2</th>\n",
       "      <td>U Launcher Lite – FREE Live Cool Themes, Hide ...</td>\n",
       "      <td>ART_AND_DESIGN</td>\n",
       "      <td>4.7</td>\n",
       "      <td>87510</td>\n",
       "      <td>9122611.2</td>\n",
       "      <td>5,000,000+</td>\n",
       "      <td>Free</td>\n",
       "      <td>0</td>\n",
       "      <td>Everyone</td>\n",
       "      <td>Art &amp; Design</td>\n",
       "      <td>August 1, 2018</td>\n",
       "      <td>1.2.4</td>\n",
       "      <td>4.0.3 and up</td>\n",
       "    </tr>\n",
       "    <tr>\n",
       "      <th>3</th>\n",
       "      <td>Sketch - Draw &amp; Paint</td>\n",
       "      <td>ART_AND_DESIGN</td>\n",
       "      <td>4.5</td>\n",
       "      <td>215644</td>\n",
       "      <td>26214400.0</td>\n",
       "      <td>50,000,000+</td>\n",
       "      <td>Free</td>\n",
       "      <td>0</td>\n",
       "      <td>Teen</td>\n",
       "      <td>Art &amp; Design</td>\n",
       "      <td>June 8, 2018</td>\n",
       "      <td>Varies with device</td>\n",
       "      <td>4.2 and up</td>\n",
       "    </tr>\n",
       "    <tr>\n",
       "      <th>4</th>\n",
       "      <td>Pixel Draw - Number Art Coloring Book</td>\n",
       "      <td>ART_AND_DESIGN</td>\n",
       "      <td>4.3</td>\n",
       "      <td>967</td>\n",
       "      <td>2936012.8</td>\n",
       "      <td>100,000+</td>\n",
       "      <td>Free</td>\n",
       "      <td>0</td>\n",
       "      <td>Everyone</td>\n",
       "      <td>Art &amp; Design;Creativity</td>\n",
       "      <td>June 20, 2018</td>\n",
       "      <td>1.1</td>\n",
       "      <td>4.4 and up</td>\n",
       "    </tr>\n",
       "    <tr>\n",
       "      <th>5</th>\n",
       "      <td>Paper flowers instructions</td>\n",
       "      <td>ART_AND_DESIGN</td>\n",
       "      <td>4.4</td>\n",
       "      <td>167</td>\n",
       "      <td>5872025.6</td>\n",
       "      <td>50,000+</td>\n",
       "      <td>Free</td>\n",
       "      <td>0</td>\n",
       "      <td>Everyone</td>\n",
       "      <td>Art &amp; Design</td>\n",
       "      <td>March 26, 2017</td>\n",
       "      <td>1.0</td>\n",
       "      <td>2.3 and up</td>\n",
       "    </tr>\n",
       "  </tbody>\n",
       "</table>\n",
       "</div>"
      ],
      "text/plain": [
       "                                                 App        Category Rating  \\\n",
       "0     Photo Editor & Candy Camera & Grid & ScrapBook  ART_AND_DESIGN    4.1   \n",
       "2  U Launcher Lite – FREE Live Cool Themes, Hide ...  ART_AND_DESIGN    4.7   \n",
       "3                              Sketch - Draw & Paint  ART_AND_DESIGN    4.5   \n",
       "4              Pixel Draw - Number Art Coloring Book  ART_AND_DESIGN    4.3   \n",
       "5                         Paper flowers instructions  ART_AND_DESIGN    4.4   \n",
       "\n",
       "  Reviews Size_in_bytes     Installs  Type Price Content Rating  \\\n",
       "0     159    19922944.0      10,000+  Free     0       Everyone   \n",
       "2   87510     9122611.2   5,000,000+  Free     0       Everyone   \n",
       "3  215644    26214400.0  50,000,000+  Free     0           Teen   \n",
       "4     967     2936012.8     100,000+  Free     0       Everyone   \n",
       "5     167     5872025.6      50,000+  Free     0       Everyone   \n",
       "\n",
       "                    Genres     Last Updated         Current Ver   Android Ver  \n",
       "0             Art & Design  January 7, 2018               1.0.0  4.0.3 and up  \n",
       "2             Art & Design   August 1, 2018               1.2.4  4.0.3 and up  \n",
       "3             Art & Design     June 8, 2018  Varies with device    4.2 and up  \n",
       "4  Art & Design;Creativity    June 20, 2018                 1.1    4.4 and up  \n",
       "5             Art & Design   March 26, 2017                 1.0    2.3 and up  "
      ]
     },
     "execution_count": 41,
     "metadata": {},
     "output_type": "execute_result"
    }
   ],
   "source": [
    "android_final.head()"
   ]
  },
  {
   "cell_type": "code",
   "execution_count": 42,
   "id": "a10de197",
   "metadata": {},
   "outputs": [
    {
     "data": {
      "text/plain": [
       "(8863, 13)"
      ]
     },
     "execution_count": 42,
     "metadata": {},
     "output_type": "execute_result"
    }
   ],
   "source": [
    "android_final.shape"
   ]
  },
  {
   "cell_type": "markdown",
   "id": "a1db00dc",
   "metadata": {},
   "source": [
    "### Analysis "
   ]
  },
  {
   "cell_type": "code",
   "execution_count": 43,
   "id": "e5674a7b",
   "metadata": {},
   "outputs": [
    {
     "data": {
      "text/plain": [
       "FAMILY                 18.932641\n",
       "GAME                    9.691978\n",
       "TOOLS                   8.450863\n",
       "BUSINESS                4.592125\n",
       "LIFESTYLE               3.915153\n",
       "PRODUCTIVITY            3.892587\n",
       "FINANCE                 3.700779\n",
       "MEDICAL                 3.520253\n",
       "SPORTS                  3.396141\n",
       "PERSONALIZATION         3.317161\n",
       "COMMUNICATION           3.238181\n",
       "HEALTH_AND_FITNESS      3.080221\n",
       "PHOTOGRAPHY             2.944827\n",
       "NEWS_AND_MAGAZINES      2.798150\n",
       "SOCIAL                  2.662755\n",
       "TRAVEL_AND_LOCAL        2.335552\n",
       "SHOPPING                2.245289\n",
       "BOOKS_AND_REFERENCE     2.143744\n",
       "DATING                  1.861672\n",
       "VIDEO_PLAYERS           1.793975\n",
       "MAPS_AND_NAVIGATION     1.399075\n",
       "FOOD_AND_DRINK          1.241115\n",
       "EDUCATION               1.173418\n",
       "ENTERTAINMENT           0.959043\n",
       "LIBRARIES_AND_DEMO      0.936477\n",
       "AUTO_AND_VEHICLES       0.925195\n",
       "HOUSE_AND_HOME          0.823649\n",
       "WEATHER                 0.801083\n",
       "EVENTS                  0.710820\n",
       "PARENTING               0.654406\n",
       "ART_AND_DESIGN          0.643123\n",
       "COMICS                  0.620557\n",
       "BEAUTY                  0.597992\n",
       "Name: Category, dtype: float64"
      ]
     },
     "execution_count": 43,
     "metadata": {},
     "output_type": "execute_result"
    }
   ],
   "source": [
    "android_final['Category'].value_counts(normalize = True)*100"
   ]
  },
  {
   "cell_type": "code",
   "execution_count": 44,
   "id": "1a70b464",
   "metadata": {},
   "outputs": [
    {
     "data": {
      "text/plain": [
       "FAMILY                 1678\n",
       "GAME                    859\n",
       "TOOLS                   749\n",
       "BUSINESS                407\n",
       "LIFESTYLE               347\n",
       "PRODUCTIVITY            345\n",
       "FINANCE                 328\n",
       "MEDICAL                 312\n",
       "SPORTS                  301\n",
       "PERSONALIZATION         294\n",
       "COMMUNICATION           287\n",
       "HEALTH_AND_FITNESS      273\n",
       "PHOTOGRAPHY             261\n",
       "NEWS_AND_MAGAZINES      248\n",
       "SOCIAL                  236\n",
       "TRAVEL_AND_LOCAL        207\n",
       "SHOPPING                199\n",
       "BOOKS_AND_REFERENCE     190\n",
       "DATING                  165\n",
       "VIDEO_PLAYERS           159\n",
       "MAPS_AND_NAVIGATION     124\n",
       "FOOD_AND_DRINK          110\n",
       "EDUCATION               104\n",
       "ENTERTAINMENT            85\n",
       "LIBRARIES_AND_DEMO       83\n",
       "AUTO_AND_VEHICLES        82\n",
       "HOUSE_AND_HOME           73\n",
       "WEATHER                  71\n",
       "EVENTS                   63\n",
       "PARENTING                58\n",
       "ART_AND_DESIGN           57\n",
       "COMICS                   55\n",
       "BEAUTY                   53\n",
       "Name: Category, dtype: int64"
      ]
     },
     "execution_count": 44,
     "metadata": {},
     "output_type": "execute_result"
    }
   ],
   "source": [
    "android_final['Category'].value_counts()"
   ]
  },
  {
   "cell_type": "code",
   "execution_count": 45,
   "id": "81de7b68",
   "metadata": {},
   "outputs": [
    {
     "data": {
      "image/png": "[encoded data removed]",
      "text/plain": [
       "<Figure size 1200x800 with 1 Axes>"
      ]
     },
     "metadata": {},
     "output_type": "display_data"
    }
   ],
   "source": [
    "categories = android_final[\"Category\"].value_counts().index[:15]\n",
    "counts = android_final[\"Category\"].value_counts().values[:15]\n",
    "percentage = round(android_final[\"Category\"].value_counts(normalize=True) * 100, 1)\n",
    "\n",
    "# Create a stylish bar chart\n",
    "plt.figure(figsize=(12, 8))\n",
    "bars = plt.bar(categories, counts, color='lightgray', alpha=0.75, edgecolor='black', linewidth=1.5)\n",
    "plt.xticks(rotation=90, fontsize=12)\n",
    "plt.yticks(fontsize=12)\n",
    "plt.grid(axis='y', linestyle='--', alpha=0.7)\n",
    "plt.grid(axis='x', linestyle=\"\", alpha=0.7)\n",
    "plt.xticks(fontsize=12)  # Customized tick Labels\n",
    "plt.yticks(range(0, 3000, 500), [], fontsize=12)  # Customized tick Labels and customized y-ticks range\n",
    "plt.tick_params(bottom=0, left=0)\n",
    "\n",
    "# Find the category with the highest count\n",
    "max_count_category = categories[counts.argmax()]\n",
    "\n",
    "# Highlight the bar for the category with the highest count\n",
    "max_count_index = list(categories).index(max_count_category)\n",
    "bars[max_count_index].set_color(\"pink\")\n",
    "bars[max_count_index].set_edgecolor('black')\n",
    "\n",
    "# Adding data Labels and percentages inside each bar\n",
    "for bar, perc in zip(bars, percentage):\n",
    "    height = bar.get_height()\n",
    "    plt.text(bar.get_x() + bar.get_width() / 2, height + 20, \"%d\" % int(height), ha='center', va='bottom',\n",
    "             fontsize=10)\n",
    "    plt.text(bar.get_x() + bar.get_width() / 2, height / 2, f'{perc}%', ha='center', va='bottom', fontsize=10)\n",
    "\n",
    "# Adding a background color\n",
    "ax = plt.gca()\n",
    "ax.set_facecolor(\"#f7f7f7\")\n",
    "\n",
    "# Add chart Title inside chart(Heading Line)\n",
    "plt.text(0.5, 0.95, 'Android App Categories with Zero Price', horizontalalignment='center',\n",
    "         transform=plt.gca().transAxes,\n",
    "         color='grey', fontweight='bold', fontsize=16)\n",
    "\n",
    "# Add chart Title inside chart(Bottom Line)\n",
    "plt.text(0.5, 0.86, \"The 'FAMILY' category stands out from other categories\\n showing considerable demand.\",\n",
    "         horizontalalignment='center', transform=plt.gca().transAxes,\n",
    "         color='grey', fontsize=14)\n",
    "\n",
    "# Remove Spines(Boundaries lines removed)\n",
    "for i in ['top', 'left', 'right']:\n",
    "    plt.gca().spines[i].set_visible(False)\n",
    "\n",
    "# Adjust layout to avoid clipping\n",
    "plt.tight_layout()\n",
    "\n",
    "plt.show()"
   ]
  },
  {
   "cell_type": "code",
   "execution_count": 46,
   "id": "50bf4e62",
   "metadata": {},
   "outputs": [
    {
     "data": {
      "text/html": [
       "<div>\n",
       "<style scoped>\n",
       "    .dataframe tbody tr th:only-of-type {\n",
       "        vertical-align: middle;\n",
       "    }\n",
       "\n",
       "    .dataframe tbody tr th {\n",
       "        vertical-align: top;\n",
       "    }\n",
       "\n",
       "    .dataframe thead th {\n",
       "        text-align: right;\n",
       "    }\n",
       "</style>\n",
       "<table border=\"1\" class=\"dataframe\">\n",
       "  <thead>\n",
       "    <tr style=\"text-align: right;\">\n",
       "      <th></th>\n",
       "      <th>App</th>\n",
       "      <th>Category</th>\n",
       "      <th>Rating</th>\n",
       "      <th>Reviews</th>\n",
       "      <th>Size_in_bytes</th>\n",
       "      <th>Installs</th>\n",
       "      <th>Type</th>\n",
       "      <th>Price</th>\n",
       "      <th>Content Rating</th>\n",
       "      <th>Genres</th>\n",
       "      <th>Last Updated</th>\n",
       "      <th>Current Ver</th>\n",
       "      <th>Android Ver</th>\n",
       "    </tr>\n",
       "  </thead>\n",
       "  <tbody>\n",
       "    <tr>\n",
       "      <th>2017</th>\n",
       "      <td>Jewels Crush- Match 3 Puzzle</td>\n",
       "      <td>FAMILY</td>\n",
       "      <td>4.4</td>\n",
       "      <td>14774</td>\n",
       "      <td>19922944.0</td>\n",
       "      <td>1,000,000+</td>\n",
       "      <td>Free</td>\n",
       "      <td>0</td>\n",
       "      <td>Everyone</td>\n",
       "      <td>Casual;Brain Games</td>\n",
       "      <td>July 23, 2018</td>\n",
       "      <td>1.9.3901</td>\n",
       "      <td>4.0.3 and up</td>\n",
       "    </tr>\n",
       "    <tr>\n",
       "      <th>2018</th>\n",
       "      <td>Coloring &amp; Learn</td>\n",
       "      <td>FAMILY</td>\n",
       "      <td>4.4</td>\n",
       "      <td>12753</td>\n",
       "      <td>53477376.0</td>\n",
       "      <td>5,000,000+</td>\n",
       "      <td>Free</td>\n",
       "      <td>0</td>\n",
       "      <td>Everyone</td>\n",
       "      <td>Educational;Creativity</td>\n",
       "      <td>July 17, 2018</td>\n",
       "      <td>1.49</td>\n",
       "      <td>4.0.3 and up</td>\n",
       "    </tr>\n",
       "    <tr>\n",
       "      <th>2019</th>\n",
       "      <td>Mahjong</td>\n",
       "      <td>FAMILY</td>\n",
       "      <td>4.5</td>\n",
       "      <td>33983</td>\n",
       "      <td>23068672.0</td>\n",
       "      <td>5,000,000+</td>\n",
       "      <td>Free</td>\n",
       "      <td>0</td>\n",
       "      <td>Everyone</td>\n",
       "      <td>Puzzle;Brain Games</td>\n",
       "      <td>August 2, 2018</td>\n",
       "      <td>1.24.3181</td>\n",
       "      <td>4.0.3 and up</td>\n",
       "    </tr>\n",
       "    <tr>\n",
       "      <th>2020</th>\n",
       "      <td>Super ABC! Learning games for kids! Preschool ...</td>\n",
       "      <td>FAMILY</td>\n",
       "      <td>4.6</td>\n",
       "      <td>20267</td>\n",
       "      <td>48234496.0</td>\n",
       "      <td>1,000,000+</td>\n",
       "      <td>Free</td>\n",
       "      <td>0</td>\n",
       "      <td>Everyone</td>\n",
       "      <td>Educational;Education</td>\n",
       "      <td>July 16, 2018</td>\n",
       "      <td>1.1.6.7</td>\n",
       "      <td>4.1 and up</td>\n",
       "    </tr>\n",
       "    <tr>\n",
       "      <th>2021</th>\n",
       "      <td>Toy Pop Cubes</td>\n",
       "      <td>FAMILY</td>\n",
       "      <td>4.5</td>\n",
       "      <td>5761</td>\n",
       "      <td>22020096.0</td>\n",
       "      <td>1,000,000+</td>\n",
       "      <td>Free</td>\n",
       "      <td>0</td>\n",
       "      <td>Everyone</td>\n",
       "      <td>Casual;Brain Games</td>\n",
       "      <td>July 4, 2018</td>\n",
       "      <td>1.8.3181</td>\n",
       "      <td>4.0.3 and up</td>\n",
       "    </tr>\n",
       "    <tr>\n",
       "      <th>...</th>\n",
       "      <td>...</td>\n",
       "      <td>...</td>\n",
       "      <td>...</td>\n",
       "      <td>...</td>\n",
       "      <td>...</td>\n",
       "      <td>...</td>\n",
       "      <td>...</td>\n",
       "      <td>...</td>\n",
       "      <td>...</td>\n",
       "      <td>...</td>\n",
       "      <td>...</td>\n",
       "      <td>...</td>\n",
       "      <td>...</td>\n",
       "    </tr>\n",
       "    <tr>\n",
       "      <th>10821</th>\n",
       "      <td>Poop FR</td>\n",
       "      <td>FAMILY</td>\n",
       "      <td>NaN</td>\n",
       "      <td>6</td>\n",
       "      <td>2621440.0</td>\n",
       "      <td>50+</td>\n",
       "      <td>Free</td>\n",
       "      <td>0</td>\n",
       "      <td>Everyone</td>\n",
       "      <td>Entertainment</td>\n",
       "      <td>May 29, 2018</td>\n",
       "      <td>1.0</td>\n",
       "      <td>4.0.3 and up</td>\n",
       "    </tr>\n",
       "    <tr>\n",
       "      <th>10827</th>\n",
       "      <td>Fr Agnel Ambarnath</td>\n",
       "      <td>FAMILY</td>\n",
       "      <td>4.2</td>\n",
       "      <td>117</td>\n",
       "      <td>13631488.0</td>\n",
       "      <td>5,000+</td>\n",
       "      <td>Free</td>\n",
       "      <td>0</td>\n",
       "      <td>Everyone</td>\n",
       "      <td>Education</td>\n",
       "      <td>June 13, 2018</td>\n",
       "      <td>2.0.20</td>\n",
       "      <td>4.0.3 and up</td>\n",
       "    </tr>\n",
       "    <tr>\n",
       "      <th>10834</th>\n",
       "      <td>FR Calculator</td>\n",
       "      <td>FAMILY</td>\n",
       "      <td>4.0</td>\n",
       "      <td>7</td>\n",
       "      <td>2726297.6</td>\n",
       "      <td>500+</td>\n",
       "      <td>Free</td>\n",
       "      <td>0</td>\n",
       "      <td>Everyone</td>\n",
       "      <td>Education</td>\n",
       "      <td>June 18, 2017</td>\n",
       "      <td>1.0.0</td>\n",
       "      <td>4.1 and up</td>\n",
       "    </tr>\n",
       "    <tr>\n",
       "      <th>10836</th>\n",
       "      <td>Sya9a Maroc - FR</td>\n",
       "      <td>FAMILY</td>\n",
       "      <td>4.5</td>\n",
       "      <td>38</td>\n",
       "      <td>55574528.0</td>\n",
       "      <td>5,000+</td>\n",
       "      <td>Free</td>\n",
       "      <td>0</td>\n",
       "      <td>Everyone</td>\n",
       "      <td>Education</td>\n",
       "      <td>July 25, 2017</td>\n",
       "      <td>1.48</td>\n",
       "      <td>4.1 and up</td>\n",
       "    </tr>\n",
       "    <tr>\n",
       "      <th>10837</th>\n",
       "      <td>Fr. Mike Schmitz Audio Teachings</td>\n",
       "      <td>FAMILY</td>\n",
       "      <td>5.0</td>\n",
       "      <td>4</td>\n",
       "      <td>3774873.6</td>\n",
       "      <td>100+</td>\n",
       "      <td>Free</td>\n",
       "      <td>0</td>\n",
       "      <td>Everyone</td>\n",
       "      <td>Education</td>\n",
       "      <td>July 6, 2018</td>\n",
       "      <td>1.0</td>\n",
       "      <td>4.1 and up</td>\n",
       "    </tr>\n",
       "  </tbody>\n",
       "</table>\n",
       "<p>1678 rows × 13 columns</p>\n",
       "</div>"
      ],
      "text/plain": [
       "                                                     App Category Rating  \\\n",
       "2017                        Jewels Crush- Match 3 Puzzle   FAMILY    4.4   \n",
       "2018                                    Coloring & Learn   FAMILY    4.4   \n",
       "2019                                             Mahjong   FAMILY    4.5   \n",
       "2020   Super ABC! Learning games for kids! Preschool ...   FAMILY    4.6   \n",
       "2021                                       Toy Pop Cubes   FAMILY    4.5   \n",
       "...                                                  ...      ...    ...   \n",
       "10821                                            Poop FR   FAMILY    NaN   \n",
       "10827                                 Fr Agnel Ambarnath   FAMILY    4.2   \n",
       "10834                                      FR Calculator   FAMILY    4.0   \n",
       "10836                                   Sya9a Maroc - FR   FAMILY    4.5   \n",
       "10837                   Fr. Mike Schmitz Audio Teachings   FAMILY    5.0   \n",
       "\n",
       "      Reviews Size_in_bytes    Installs  Type Price Content Rating  \\\n",
       "2017    14774    19922944.0  1,000,000+  Free     0       Everyone   \n",
       "2018    12753    53477376.0  5,000,000+  Free     0       Everyone   \n",
       "2019    33983    23068672.0  5,000,000+  Free     0       Everyone   \n",
       "2020    20267    48234496.0  1,000,000+  Free     0       Everyone   \n",
       "2021     5761    22020096.0  1,000,000+  Free     0       Everyone   \n",
       "...       ...           ...         ...   ...   ...            ...   \n",
       "10821       6     2621440.0         50+  Free     0       Everyone   \n",
       "10827     117    13631488.0      5,000+  Free     0       Everyone   \n",
       "10834       7     2726297.6        500+  Free     0       Everyone   \n",
       "10836      38    55574528.0      5,000+  Free     0       Everyone   \n",
       "10837       4     3774873.6        100+  Free     0       Everyone   \n",
       "\n",
       "                       Genres    Last Updated Current Ver   Android Ver  \n",
       "2017       Casual;Brain Games   July 23, 2018    1.9.3901  4.0.3 and up  \n",
       "2018   Educational;Creativity   July 17, 2018        1.49  4.0.3 and up  \n",
       "2019       Puzzle;Brain Games  August 2, 2018   1.24.3181  4.0.3 and up  \n",
       "2020    Educational;Education   July 16, 2018     1.1.6.7    4.1 and up  \n",
       "2021       Casual;Brain Games    July 4, 2018    1.8.3181  4.0.3 and up  \n",
       "...                       ...             ...         ...           ...  \n",
       "10821           Entertainment    May 29, 2018         1.0  4.0.3 and up  \n",
       "10827               Education   June 13, 2018      2.0.20  4.0.3 and up  \n",
       "10834               Education   June 18, 2017       1.0.0    4.1 and up  \n",
       "10836               Education   July 25, 2017        1.48    4.1 and up  \n",
       "10837               Education    July 6, 2018         1.0    4.1 and up  \n",
       "\n",
       "[1678 rows x 13 columns]"
      ]
     },
     "execution_count": 46,
     "metadata": {},
     "output_type": "execute_result"
    }
   ],
   "source": [
    "android_final[android_final['Category'] == 'FAMILY']"
   ]
  },
  {
   "cell_type": "markdown",
   "id": "d88aed25",
   "metadata": {},
   "source": [
    "### The Most Popular Apps by Genre\n"
   ]
  },
  {
   "cell_type": "markdown",
   "id": "186e49c6",
   "metadata": {},
   "source": [
    "For the Google Play market, we actually have data about the of installs, so we should be able to get a clearer picture about genre popularity, However, the install numbers don't seem precise enough. We can see that most values are open-ended(100+,1000+,5000+)"
   ]
  },
  {
   "cell_type": "code",
   "execution_count": 47,
   "id": "c62ac04a",
   "metadata": {},
   "outputs": [
    {
     "data": {
      "text/plain": [
       "1,000,000+        15.739592\n",
       "100,000+          11.553650\n",
       "10,000,000+       10.515627\n",
       "10,000+           10.199707\n",
       "1,000+             8.405732\n",
       "100+               6.916394\n",
       "5,000,000+         6.837414\n",
       "500,000+           5.573733\n",
       "50,000+            4.772650\n",
       "5,000+             4.513145\n",
       "10+                3.542818\n",
       "500+               3.249464\n",
       "50,000,000+        2.290421\n",
       "100,000,000+       2.121178\n",
       "50+                1.918086\n",
       "5+                 0.789800\n",
       "1+                 0.507729\n",
       "500,000,000+       0.270789\n",
       "1,000,000,000+     0.225657\n",
       "0+                 0.045131\n",
       "0                  0.011283\n",
       "Name: Installs, dtype: float64"
      ]
     },
     "execution_count": 47,
     "metadata": {},
     "output_type": "execute_result"
    }
   ],
   "source": [
    "android_final['Installs'].value_counts(normalize = True)*100"
   ]
  },
  {
   "cell_type": "code",
   "execution_count": 48,
   "id": "b512e0e8",
   "metadata": {},
   "outputs": [
    {
     "data": {
      "text/plain": [
       "0           10000\n",
       "2         5000000\n",
       "3        50000000\n",
       "4          100000\n",
       "5           50000\n",
       "           ...   \n",
       "10836        5000\n",
       "10837         100\n",
       "10838        1000\n",
       "10839        1000\n",
       "10840    10000000\n",
       "Name: Installs_int, Length: 8863, dtype: int32"
      ]
     },
     "execution_count": 48,
     "metadata": {},
     "output_type": "execute_result"
    }
   ],
   "source": [
    "android_final['Installs_int'] = android_final['Installs'].str.replace('+','').str.replace(',','').astype(int)\n",
    "android_final['Installs_int']"
   ]
  },
  {
   "cell_type": "code",
   "execution_count": 49,
   "id": "69e056da",
   "metadata": {},
   "outputs": [
    {
     "data": {
      "text/plain": [
       "1000           745\n",
       "5000           400\n",
       "10000          904\n",
       "50000          423\n",
       "100000        1024\n",
       "500000         494\n",
       "1000000       1395\n",
       "5000000        606\n",
       "10000000       932\n",
       "50000000       203\n",
       "100000000      188\n",
       "500000000       24\n",
       "1000000000      20\n",
       "Name: Installs_int, dtype: int64"
      ]
     },
     "execution_count": 49,
     "metadata": {},
     "output_type": "execute_result"
    }
   ],
   "source": [
    "install_frq = android_final['Installs_int'].value_counts().sort_index()\n",
    "install_frq = install_frq[install_frq.index > 500]\n",
    "install_frq"
   ]
  },
  {
   "cell_type": "code",
   "execution_count": 50,
   "id": "648c60fa",
   "metadata": {},
   "outputs": [
    {
     "data": {
      "text/plain": [
       "1000           8.41\n",
       "5000           4.51\n",
       "10000         10.20\n",
       "50000          4.77\n",
       "100000        11.55\n",
       "500000         5.57\n",
       "1000000       15.74\n",
       "5000000        6.84\n",
       "10000000      10.52\n",
       "50000000       2.29\n",
       "100000000      2.12\n",
       "500000000      0.27\n",
       "1000000000     0.23\n",
       "Name: Installs_int, dtype: float64"
      ]
     },
     "execution_count": 50,
     "metadata": {},
     "output_type": "execute_result"
    }
   ],
   "source": [
    "install_frq_per = round(android_final['Installs_int'].value_counts(normalize = True)*100,2).sort_index()\n",
    "install_frq_per = install_frq_per[install_frq_per.index > 500]\n",
    "install_frq_per\n"
   ]
  },
  {
   "cell_type": "code",
   "execution_count": 51,
   "id": "5b0d3617",
   "metadata": {},
   "outputs": [],
   "source": [
    "#aplha numeric unit\n",
    "def alphanumeric_units(value):\n",
    "    if value >= 1e9:\n",
    "        return f'{value/ 1e9:.0f}B'\n",
    "    elif value >= 1e6:\n",
    "        return f'{value / 1e6:.0f}M'\n",
    "    elif value >= 1e3:\n",
    "        return f'{value / 1e3:.0f}K'\n",
    "    else:\n",
    "        return f'{value:.0f}'"
   ]
  },
  {
   "cell_type": "code",
   "execution_count": 52,
   "id": "39e1b24e",
   "metadata": {},
   "outputs": [
    {
     "data": {
      "text/plain": [
       "'1B'"
      ]
     },
     "execution_count": 52,
     "metadata": {},
     "output_type": "execute_result"
    }
   ],
   "source": [
    "alphanumeric_units(1000000000)"
   ]
  },
  {
   "cell_type": "code",
   "execution_count": 53,
   "id": "e5faf566",
   "metadata": {},
   "outputs": [
    {
     "data": {
      "text/plain": [
       "1000           745\n",
       "5000           400\n",
       "10000          904\n",
       "50000          423\n",
       "100000        1024\n",
       "500000         494\n",
       "1000000       1395\n",
       "5000000        606\n",
       "10000000       932\n",
       "50000000       203\n",
       "100000000      188\n",
       "500000000       24\n",
       "1000000000      20\n",
       "Name: Installs_int, dtype: int64"
      ]
     },
     "execution_count": 53,
     "metadata": {},
     "output_type": "execute_result"
    }
   ],
   "source": [
    "install_frq"
   ]
  },
  {
   "cell_type": "code",
   "execution_count": 54,
   "id": "411b6cff",
   "metadata": {},
   "outputs": [
    {
     "data": {
      "text/plain": [
       "1K       745\n",
       "5K       400\n",
       "10K      904\n",
       "50K      423\n",
       "100K    1024\n",
       "500K     494\n",
       "1M      1395\n",
       "5M       606\n",
       "10M      932\n",
       "50M      203\n",
       "100M     188\n",
       "500M      24\n",
       "1B        20\n",
       "Name: Installs_int, dtype: int64"
      ]
     },
     "execution_count": 54,
     "metadata": {},
     "output_type": "execute_result"
    }
   ],
   "source": [
    "install_frq.index = install_frq.index.map(alphanumeric_units)\n",
    "install_frq"
   ]
  },
  {
   "cell_type": "code",
   "execution_count": 55,
   "id": "90d3fdf1",
   "metadata": {},
   "outputs": [
    {
     "data": {
      "image/png": "[encoded data removed]",
      "text/plain": [
       "<Figure size 1200x700 with 1 Axes>"
      ]
     },
     "metadata": {},
     "output_type": "display_data"
    }
   ],
   "source": [
    "categories = install_frq.index\n",
    "counts = install_frq.values\n",
    "percentage1 = install_frq_per.values\n",
    "\n",
    "# Create a stylish bar chart\n",
    "plt.figure(figsize=(12, 7))\n",
    "bars = plt.bar(categories, counts, color='skyblue', alpha=0.75, edgecolor='black', linewidth=1.5)\n",
    "plt.xticks(rotation=90, fontsize=12)\n",
    "plt.yticks(fontsize=12)\n",
    "plt.grid(axis='y', linestyle='--', alpha=0.7)\n",
    "plt.grid(axis='x', linestyle=\"\")\n",
    "plt.xticks(fontsize=12)  # Customized tick Labels\n",
    "plt.yticks(range(0, 2500, 500), [], fontsize=12)  # Customized tick Labels and customized y-ticks range\n",
    "plt.tick_params(bottom=0, left=0)\n",
    "\n",
    "# Find the category with the highest count\n",
    "max_count_category = categories[counts.argmax()]\n",
    "\n",
    "# Highlight the bar for the category with the highest count\n",
    "max_count_index = list(categories).index(max_count_category)\n",
    "bars[max_count_index].set_color(\"pink\")\n",
    "bars[max_count_index].set_edgecolor('black')\n",
    "\n",
    "# Adding data Labels and percentages inside each bar\n",
    "for bar, perc in zip(bars, percentage1):\n",
    "    height = bar.get_height()\n",
    "    plt.text(bar.get_x() + bar.get_width() / 2, height + 20, \"%d\" % int(height), ha='center', va='bottom', fontsize=10)\n",
    "    plt.text(bar.get_x() + bar.get_width() / 2, height / 2, f'{perc}%', ha='center', va='bottom', fontsize=10,\n",
    "             color='black')  # Specify color here\n",
    "\n",
    "# Adding a background color\n",
    "ax = plt.gca()\n",
    "ax.set_facecolor(\"#f7f7f7\")\n",
    "\n",
    "# Adding CHART TITLE inside the chart\n",
    "plt.text(0.5, 0.95, 'Distribution of Android App Installs', horizontalalignment=\"center\", fontsize=16, \\\n",
    "         transform=plt.gca().transAxes, color='gray', fontweight='bold')\n",
    "\n",
    "# Removing spines\n",
    "for i in [\"top\", \"right\", \"left\"]:\n",
    "    plt.gca().spines[i].set_visible(False)\n",
    "\n",
    "# Adjust layout to prevent clipping\n",
    "plt.tight_layout()\n",
    "plt.show()\n"
   ]
  },
  {
   "cell_type": "code",
   "execution_count": 56,
   "id": "bcf1a20f",
   "metadata": {},
   "outputs": [
    {
     "data": {
      "text/plain": [
       "array(['ART_AND_DESIGN', 'AUTO_AND_VEHICLES', 'BEAUTY',\n",
       "       'BOOKS_AND_REFERENCE', 'BUSINESS', 'COMICS', 'COMMUNICATION',\n",
       "       'DATING', 'EDUCATION', 'ENTERTAINMENT', 'EVENTS', 'FINANCE',\n",
       "       'FOOD_AND_DRINK', 'HEALTH_AND_FITNESS', 'HOUSE_AND_HOME',\n",
       "       'LIBRARIES_AND_DEMO', 'LIFESTYLE', 'GAME', 'FAMILY', 'MEDICAL',\n",
       "       'SOCIAL', 'SHOPPING', 'PHOTOGRAPHY', 'SPORTS', 'TRAVEL_AND_LOCAL',\n",
       "       'TOOLS', 'PERSONALIZATION', 'PRODUCTIVITY', 'PARENTING', 'WEATHER',\n",
       "       'VIDEO_PLAYERS', 'NEWS_AND_MAGAZINES', 'MAPS_AND_NAVIGATION'],\n",
       "      dtype=object)"
      ]
     },
     "execution_count": 56,
     "metadata": {},
     "output_type": "execute_result"
    }
   ],
   "source": [
    "categories_android = android_final['Category'].unique()\n",
    "categories_android"
   ]
  },
  {
   "cell_type": "code",
   "execution_count": 57,
   "id": "e03ee62d",
   "metadata": {},
   "outputs": [
    {
     "data": {
      "text/html": [
       "<div>\n",
       "<style scoped>\n",
       "    .dataframe tbody tr th:only-of-type {\n",
       "        vertical-align: middle;\n",
       "    }\n",
       "\n",
       "    .dataframe tbody tr th {\n",
       "        vertical-align: top;\n",
       "    }\n",
       "\n",
       "    .dataframe thead th {\n",
       "        text-align: right;\n",
       "    }\n",
       "</style>\n",
       "<table border=\"1\" class=\"dataframe\">\n",
       "  <thead>\n",
       "    <tr style=\"text-align: right;\">\n",
       "      <th></th>\n",
       "      <th>Installs_int</th>\n",
       "    </tr>\n",
       "    <tr>\n",
       "      <th>Category</th>\n",
       "      <th></th>\n",
       "    </tr>\n",
       "  </thead>\n",
       "  <tbody>\n",
       "    <tr>\n",
       "      <th>ART_AND_DESIGN</th>\n",
       "      <td>1.986335e+06</td>\n",
       "    </tr>\n",
       "    <tr>\n",
       "      <th>AUTO_AND_VEHICLES</th>\n",
       "      <td>6.473178e+05</td>\n",
       "    </tr>\n",
       "    <tr>\n",
       "      <th>BEAUTY</th>\n",
       "      <td>5.131519e+05</td>\n",
       "    </tr>\n",
       "    <tr>\n",
       "      <th>BOOKS_AND_REFERENCE</th>\n",
       "      <td>8.767812e+06</td>\n",
       "    </tr>\n",
       "    <tr>\n",
       "      <th>BUSINESS</th>\n",
       "      <td>1.712290e+06</td>\n",
       "    </tr>\n",
       "    <tr>\n",
       "      <th>COMICS</th>\n",
       "      <td>8.176573e+05</td>\n",
       "    </tr>\n",
       "    <tr>\n",
       "      <th>COMMUNICATION</th>\n",
       "      <td>3.845612e+07</td>\n",
       "    </tr>\n",
       "    <tr>\n",
       "      <th>DATING</th>\n",
       "      <td>8.540288e+05</td>\n",
       "    </tr>\n",
       "    <tr>\n",
       "      <th>EDUCATION</th>\n",
       "      <td>1.820673e+06</td>\n",
       "    </tr>\n",
       "    <tr>\n",
       "      <th>ENTERTAINMENT</th>\n",
       "      <td>1.164071e+07</td>\n",
       "    </tr>\n",
       "    <tr>\n",
       "      <th>EVENTS</th>\n",
       "      <td>2.535422e+05</td>\n",
       "    </tr>\n",
       "    <tr>\n",
       "      <th>FAMILY</th>\n",
       "      <td>3.694276e+06</td>\n",
       "    </tr>\n",
       "    <tr>\n",
       "      <th>FINANCE</th>\n",
       "      <td>1.387692e+06</td>\n",
       "    </tr>\n",
       "    <tr>\n",
       "      <th>FOOD_AND_DRINK</th>\n",
       "      <td>1.924898e+06</td>\n",
       "    </tr>\n",
       "    <tr>\n",
       "      <th>GAME</th>\n",
       "      <td>1.556097e+07</td>\n",
       "    </tr>\n",
       "    <tr>\n",
       "      <th>HEALTH_AND_FITNESS</th>\n",
       "      <td>4.188822e+06</td>\n",
       "    </tr>\n",
       "    <tr>\n",
       "      <th>HOUSE_AND_HOME</th>\n",
       "      <td>1.331541e+06</td>\n",
       "    </tr>\n",
       "    <tr>\n",
       "      <th>LIBRARIES_AND_DEMO</th>\n",
       "      <td>6.385037e+05</td>\n",
       "    </tr>\n",
       "    <tr>\n",
       "      <th>LIFESTYLE</th>\n",
       "      <td>1.433676e+06</td>\n",
       "    </tr>\n",
       "    <tr>\n",
       "      <th>MAPS_AND_NAVIGATION</th>\n",
       "      <td>4.056942e+06</td>\n",
       "    </tr>\n",
       "    <tr>\n",
       "      <th>MEDICAL</th>\n",
       "      <td>1.206165e+05</td>\n",
       "    </tr>\n",
       "    <tr>\n",
       "      <th>NEWS_AND_MAGAZINES</th>\n",
       "      <td>9.549178e+06</td>\n",
       "    </tr>\n",
       "    <tr>\n",
       "      <th>PARENTING</th>\n",
       "      <td>5.426036e+05</td>\n",
       "    </tr>\n",
       "    <tr>\n",
       "      <th>PERSONALIZATION</th>\n",
       "      <td>5.201483e+06</td>\n",
       "    </tr>\n",
       "    <tr>\n",
       "      <th>PHOTOGRAPHY</th>\n",
       "      <td>1.780563e+07</td>\n",
       "    </tr>\n",
       "    <tr>\n",
       "      <th>PRODUCTIVITY</th>\n",
       "      <td>1.678733e+07</td>\n",
       "    </tr>\n",
       "    <tr>\n",
       "      <th>SHOPPING</th>\n",
       "      <td>7.036877e+06</td>\n",
       "    </tr>\n",
       "    <tr>\n",
       "      <th>SOCIAL</th>\n",
       "      <td>2.325365e+07</td>\n",
       "    </tr>\n",
       "    <tr>\n",
       "      <th>SPORTS</th>\n",
       "      <td>3.638640e+06</td>\n",
       "    </tr>\n",
       "    <tr>\n",
       "      <th>TOOLS</th>\n",
       "      <td>1.068230e+07</td>\n",
       "    </tr>\n",
       "    <tr>\n",
       "      <th>TRAVEL_AND_LOCAL</th>\n",
       "      <td>1.398408e+07</td>\n",
       "    </tr>\n",
       "    <tr>\n",
       "      <th>VIDEO_PLAYERS</th>\n",
       "      <td>2.472787e+07</td>\n",
       "    </tr>\n",
       "    <tr>\n",
       "      <th>WEATHER</th>\n",
       "      <td>5.074486e+06</td>\n",
       "    </tr>\n",
       "  </tbody>\n",
       "</table>\n",
       "</div>"
      ],
      "text/plain": [
       "                     Installs_int\n",
       "Category                         \n",
       "ART_AND_DESIGN       1.986335e+06\n",
       "AUTO_AND_VEHICLES    6.473178e+05\n",
       "BEAUTY               5.131519e+05\n",
       "BOOKS_AND_REFERENCE  8.767812e+06\n",
       "BUSINESS             1.712290e+06\n",
       "COMICS               8.176573e+05\n",
       "COMMUNICATION        3.845612e+07\n",
       "DATING               8.540288e+05\n",
       "EDUCATION            1.820673e+06\n",
       "ENTERTAINMENT        1.164071e+07\n",
       "EVENTS               2.535422e+05\n",
       "FAMILY               3.694276e+06\n",
       "FINANCE              1.387692e+06\n",
       "FOOD_AND_DRINK       1.924898e+06\n",
       "GAME                 1.556097e+07\n",
       "HEALTH_AND_FITNESS   4.188822e+06\n",
       "HOUSE_AND_HOME       1.331541e+06\n",
       "LIBRARIES_AND_DEMO   6.385037e+05\n",
       "LIFESTYLE            1.433676e+06\n",
       "MAPS_AND_NAVIGATION  4.056942e+06\n",
       "MEDICAL              1.206165e+05\n",
       "NEWS_AND_MAGAZINES   9.549178e+06\n",
       "PARENTING            5.426036e+05\n",
       "PERSONALIZATION      5.201483e+06\n",
       "PHOTOGRAPHY          1.780563e+07\n",
       "PRODUCTIVITY         1.678733e+07\n",
       "SHOPPING             7.036877e+06\n",
       "SOCIAL               2.325365e+07\n",
       "SPORTS               3.638640e+06\n",
       "TOOLS                1.068230e+07\n",
       "TRAVEL_AND_LOCAL     1.398408e+07\n",
       "VIDEO_PLAYERS        2.472787e+07\n",
       "WEATHER              5.074486e+06"
      ]
     },
     "execution_count": 57,
     "metadata": {},
     "output_type": "execute_result"
    }
   ],
   "source": [
    "pd.pivot_table(android_final, values='Installs_int', index = 'Category', aggfunc = 'mean')"
   ]
  },
  {
   "cell_type": "code",
   "execution_count": 58,
   "id": "24a4e789",
   "metadata": {},
   "outputs": [],
   "source": [
    "# Display dataframe without scientific notation\n",
    "pd.options.display.float_format = '{:.0f}'.format"
   ]
  },
  {
   "cell_type": "code",
   "execution_count": 59,
   "id": "2811720c",
   "metadata": {},
   "outputs": [
    {
     "data": {
      "text/plain": [
       "Category\n",
       "COMMUNICATION         38456119\n",
       "VIDEO_PLAYERS         24727872\n",
       "SOCIAL                23253652\n",
       "PHOTOGRAPHY           17805628\n",
       "PRODUCTIVITY          16787331\n",
       "GAME                  15560966\n",
       "TRAVEL_AND_LOCAL      13984078\n",
       "ENTERTAINMENT         11640706\n",
       "TOOLS                 10682301\n",
       "NEWS_AND_MAGAZINES     9549178\n",
       "BOOKS_AND_REFERENCE    8767812\n",
       "SHOPPING               7036877\n",
       "PERSONALIZATION        5201483\n",
       "WEATHER                5074486\n",
       "HEALTH_AND_FITNESS     4188822\n",
       "MAPS_AND_NAVIGATION    4056942\n",
       "FAMILY                 3694276\n",
       "SPORTS                 3638640\n",
       "ART_AND_DESIGN         1986335\n",
       "FOOD_AND_DRINK         1924898\n",
       "EDUCATION              1820673\n",
       "BUSINESS               1712290\n",
       "LIFESTYLE              1433676\n",
       "FINANCE                1387692\n",
       "HOUSE_AND_HOME         1331541\n",
       "DATING                  854029\n",
       "COMICS                  817657\n",
       "AUTO_AND_VEHICLES       647318\n",
       "LIBRARIES_AND_DEMO      638504\n",
       "PARENTING               542604\n",
       "BEAUTY                  513152\n",
       "EVENTS                  253542\n",
       "MEDICAL                 120616\n",
       "Name: Installs_int, dtype: float64"
      ]
     },
     "execution_count": 59,
     "metadata": {},
     "output_type": "execute_result"
    }
   ],
   "source": [
    "categories_installs = pd.pivot_table(android_final, values='Installs_int', index = 'Category', aggfunc = 'mean')\n",
    "categories_installs = categories_installs.sort_values(by = 'Installs_int', ascending = False)\n",
    "categories_installs = categories_installs['Installs_int']\n",
    "categories_installs"
   ]
  },
  {
   "cell_type": "code",
   "execution_count": 60,
   "id": "4afb4d05",
   "metadata": {},
   "outputs": [],
   "source": [
    "def alphanum_units(value):\n",
    "    if value >= 1e9:\n",
    "        return f'{value/ 1e9:.1f}B'\n",
    "    elif value >= 1e6:\n",
    "        return f'{value / 1e6:.1f}M'\n",
    "    elif value >= 1e3:\n",
    "        return f'{value / 1e3:.1f}K'\n",
    "    else:\n",
    "        return f'{value:.1f}'"
   ]
  },
  {
   "cell_type": "code",
   "execution_count": 61,
   "id": "e991c754",
   "metadata": {},
   "outputs": [
    {
     "data": {
      "text/plain": [
       "Category\n",
       "COMMUNICATION           38.5M\n",
       "VIDEO_PLAYERS           24.7M\n",
       "SOCIAL                  23.3M\n",
       "PHOTOGRAPHY             17.8M\n",
       "PRODUCTIVITY            16.8M\n",
       "GAME                    15.6M\n",
       "TRAVEL_AND_LOCAL        14.0M\n",
       "ENTERTAINMENT           11.6M\n",
       "TOOLS                   10.7M\n",
       "NEWS_AND_MAGAZINES       9.5M\n",
       "BOOKS_AND_REFERENCE      8.8M\n",
       "SHOPPING                 7.0M\n",
       "PERSONALIZATION          5.2M\n",
       "WEATHER                  5.1M\n",
       "HEALTH_AND_FITNESS       4.2M\n",
       "MAPS_AND_NAVIGATION      4.1M\n",
       "FAMILY                   3.7M\n",
       "SPORTS                   3.6M\n",
       "ART_AND_DESIGN           2.0M\n",
       "FOOD_AND_DRINK           1.9M\n",
       "EDUCATION                1.8M\n",
       "BUSINESS                 1.7M\n",
       "LIFESTYLE                1.4M\n",
       "FINANCE                  1.4M\n",
       "HOUSE_AND_HOME           1.3M\n",
       "DATING                 854.0K\n",
       "COMICS                 817.7K\n",
       "AUTO_AND_VEHICLES      647.3K\n",
       "LIBRARIES_AND_DEMO     638.5K\n",
       "PARENTING              542.6K\n",
       "BEAUTY                 513.2K\n",
       "EVENTS                 253.5K\n",
       "MEDICAL                120.6K\n",
       "Name: Installs_int, dtype: object"
      ]
     },
     "execution_count": 61,
     "metadata": {},
     "output_type": "execute_result"
    }
   ],
   "source": [
    "categories_installs_units = categories_installs.map(alphanum_units)\n",
    "categories_installs_units"
   ]
  },
  {
   "cell_type": "code",
   "execution_count": 65,
   "id": "b37d9578",
   "metadata": {},
   "outputs": [
    {
     "data": {
      "image/png": "[encoded data removed]",
      "text/plain": [
       "<Figure size 1200x700 with 1 Axes>"
      ]
     },
     "metadata": {},
     "output_type": "display_data"
    }
   ],
   "source": [
    "categories = categories_installs.index[:15]\n",
    "counts = categories_installs.values[:15]\n",
    "\n",
    "# Convert string units to numerical values\n",
    "categories_installs_units_values = []\n",
    "for unit in categories_installs_units.values:\n",
    "    if 'M' in unit:\n",
    "        value = float(unit.replace('M', '')) * 1000000  # Convert million to numerical value\n",
    "        categories_installs_units_values.append(int(value))\n",
    "    elif 'K' in unit:\n",
    "        value = float(unit.replace('K', '')) * 1000  # Convert thousand to numerical value\n",
    "        categories_installs_units_values.append(int(value))\n",
    "    else:\n",
    "        categories_installs_units_values.append(int(unit.replace(',', '')))  # Convert other units to integers\n",
    "\n",
    "# Create a stylish bar chart\n",
    "plt.figure(figsize=(12, 7))\n",
    "bars = plt.bar(categories, counts, color='skyblue', alpha=0.75, edgecolor='black', linewidth=1.5)\n",
    "plt.xticks(rotation=90, fontsize=12)\n",
    "plt.yticks(fontsize=12)\n",
    "plt.grid(axis='y', linestyle='--', alpha=0.7)\n",
    "plt.grid(axis='x', linestyle=\"\")\n",
    "plt.xticks(fontsize=12)  # Customized tick Labels\n",
    "plt.yticks(range(0, 60000000, 10000000), [], fontsize=12)  # Customized tick Labels and customized y-ticks range\n",
    "plt.tick_params(bottom=0, left=0)\n",
    "\n",
    "# Find the category with the highest count\n",
    "max_count_category = categories[counts.argmax()]\n",
    "\n",
    "# Highlight the bar for the category with the highest count\n",
    "max_count_index = list(categories).index(max_count_category)\n",
    "bars[max_count_index].set_color(\"pink\")\n",
    "bars[max_count_index].set_edgecolor('black')\n",
    "\n",
    "# Adding data Labels and percentages inside each bar\n",
    "for bar, units in zip(bars, categories_installs_units_values):\n",
    "    height = bar.get_height()\n",
    "    plt.text(bar.get_x() + bar.get_width() / 2, height + 25, units, ha='center', va='bottom', fontsize=11)\n",
    "\n",
    "# Adding a background color\n",
    "ax = plt.gca()\n",
    "ax.set_facecolor(\"#f7f7f7\")\n",
    "\n",
    "# Adding CHART TITLE inside the chart\n",
    "plt.text(0.5, 0.95, 'Average Distribution of Android App Installs by Category', horizontalalignment=\"center\",\n",
    "         fontsize=16, transform=plt.gca().transAxes, color='gray', fontweight='bold')\n",
    "\n",
    "# Removing spines\n",
    "for i in [\"top\", \"right\", \"left\"]:\n",
    "    plt.gca().spines[i].set_visible(False)\n",
    "\n",
    "# Adjust layout to prevent clipping\n",
    "plt.tight_layout()\n",
    "plt.show()\n"
   ]
  },
  {
   "cell_type": "markdown",
   "id": "0da4b954",
   "metadata": {},
   "source": [
    "# Observation\n"
   ]
  },
  {
   "cell_type": "markdown",
   "id": "b5d46efe",
   "metadata": {},
   "source": [
    "Communication apps lead the pack with a staggering 38.5 million installs, followed closely by Video Players at 24.7 million and Social\n",
    "apps at 23.3 million. These categories demonstrate significant popularity among Android users. showcasing the prominence of\n",
    "communication and media consumption in the mobile app landscape"
   ]
  },
  {
   "cell_type": "markdown",
   "id": "ef0fd759",
   "metadata": {},
   "source": [
    "# Conclusion"
   ]
  },
  {
   "cell_type": "markdown",
   "id": "b64f9afc",
   "metadata": {},
   "source": [
    "The analysis of the photography category reveals a significant trend towards the popularity of photo editing and collage-making applications, with numerous apps amassing over 100 million installs. This trend suggests a strong demand for photo-related functionalities among users. Consequently, there appears to be considerable potential for the development of a photo generation application in 2024. Such an app, offering prompt and free generation of pictures and photos, could leverage the existing user interest in photography apps. By providing innovative features, intuitive usability, and high-quality output, this application could distinguish itself in the competitive market and attract a substantial user base. Given the success of existing photography apps and the evolving preferences of users, investing in the development of a photo generation app appears promising for tapping into this lucrative market segment in 2024."
   ]
  },
  {
   "cell_type": "code",
   "execution_count": null,
   "id": "7c03c6c8",
   "metadata": {},
   "outputs": [],
   "source": []
  }
 ],
 "metadata": {
  "kernelspec": {
   "display_name": "Python 3 (ipykernel)",
   "language": "python",
   "name": "python3"
  },
  "language_info": {
   "codemirror_mode": {
    "name": "ipython",
    "version": 3
   },
   "file_extension": ".py",
   "mimetype": "text/x-python",
   "name": "python",
   "nbconvert_exporter": "python",
   "pygments_lexer": "ipython3",
   "version": "3.11.4"
  }
 },
 "nbformat": 4,
 "nbformat_minor": 5
}
